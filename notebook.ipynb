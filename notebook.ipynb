{
  "cells": [
    {
      "cell_type": "markdown",
      "metadata": {
        "id": "W1mB3aNtwxb_",
        "toc": true
      },
      "source": [
        "<h1>Table of Contents<span class=\"tocSkip\"></span></h1>\n",
        "<div class=\"toc\"><ul class=\"toc-item\"><li><ul class=\"toc-item\"><li><span><a href=\"#Business-Objective\" data-toc-modified-id=\"Business-Objective-0.1\"><span class=\"toc-item-num\">0.1&nbsp;&nbsp;</span>Business Objective</a></span></li><li><span><a href=\"#Model-Evaluation\" data-toc-modified-id=\"Model-Evaluation-0.2\"><span class=\"toc-item-num\">0.2&nbsp;&nbsp;</span>Model Evaluation</a></span></li><li><span><a href=\"#Dataset\" data-toc-modified-id=\"Dataset-0.3\"><span class=\"toc-item-num\">0.3&nbsp;&nbsp;</span>Dataset</a></span></li><li><span><a href=\"#Import-libraries\" data-toc-modified-id=\"Import-libraries-0.4\"><span class=\"toc-item-num\">0.4&nbsp;&nbsp;</span>Import libraries</a></span></li><li><span><a href=\"#Importing-Data\" data-toc-modified-id=\"Importing-Data-0.5\"><span class=\"toc-item-num\">0.5&nbsp;&nbsp;</span>Importing Data</a></span></li><li><span><a href=\"#Mapping-waterpump-distribution\" data-toc-modified-id=\"Mapping-waterpump-distribution-0.6\"><span class=\"toc-item-num\">0.6&nbsp;&nbsp;</span>Mapping waterpump distribution</a></span></li><li><span><a href=\"#Class-distribution\" data-toc-modified-id=\"Class-distribution-0.7\"><span class=\"toc-item-num\">0.7&nbsp;&nbsp;</span>Class distribution</a></span></li><li><span><a href=\"#EDA\" data-toc-modified-id=\"EDA-0.8\"><span class=\"toc-item-num\">0.8&nbsp;&nbsp;</span>EDA</a></span><ul class=\"toc-item\"><li><span><a href=\"#date_recorded\" data-toc-modified-id=\"date_recorded-0.8.1\"><span class=\"toc-item-num\">0.8.1&nbsp;&nbsp;</span><code>date_recorded</code></a></span></li><li><span><a href=\"#Categorical-Data\" data-toc-modified-id=\"Categorical-Data-0.8.2\"><span class=\"toc-item-num\">0.8.2&nbsp;&nbsp;</span>Categorical Data</a></span></li><li><span><a href=\"#Numerical-data\" data-toc-modified-id=\"Numerical-data-0.8.3\"><span class=\"toc-item-num\">0.8.3&nbsp;&nbsp;</span>Numerical data</a></span></li><li><span><a href=\"#Non-functional-pumps-deep-dive:\" data-toc-modified-id=\"Non-functional-pumps-deep-dive:-0.8.4\"><span class=\"toc-item-num\">0.8.4&nbsp;&nbsp;</span>Non-functional pumps deep-dive:</a></span></li></ul></li><li><span><a href=\"#Non-functional-pumps-by-subvillage\" data-toc-modified-id=\"Non-functional-pumps-by-subvillage-0.9\"><span class=\"toc-item-num\">0.9&nbsp;&nbsp;</span>Non-functional pumps by subvillage</a></span><ul class=\"toc-item\"><li><ul class=\"toc-item\"><li><span><a href=\"#Non-fuctional-pumps-by-Installer\" data-toc-modified-id=\"Non-fuctional-pumps-by-Installer-0.9.0.1\"><span class=\"toc-item-num\">0.9.0.1&nbsp;&nbsp;</span>Non-fuctional pumps by Installer</a></span></li><li><span><a href=\"#Non-functional-pumps-by-Management\" data-toc-modified-id=\"Non-functional-pumps-by-Management-0.9.0.2\"><span class=\"toc-item-num\">0.9.0.2&nbsp;&nbsp;</span>Non functional pumps by Management</a></span></li><li><span><a href=\"#Non-functional-pumps-by-Source\" data-toc-modified-id=\"Non-functional-pumps-by-Source-0.9.0.3\"><span class=\"toc-item-num\">0.9.0.3&nbsp;&nbsp;</span>Non-functional pumps by Source</a></span></li><li><span><a href=\"#Non-functional-pumps-by-static-head\" data-toc-modified-id=\"Non-functional-pumps-by-static-head-0.9.0.4\"><span class=\"toc-item-num\">0.9.0.4&nbsp;&nbsp;</span>Non-functional pumps by static head</a></span></li><li><span><a href=\"#Non-functional-pumps-by-altitude\" data-toc-modified-id=\"Non-functional-pumps-by-altitude-0.9.0.5\"><span class=\"toc-item-num\">0.9.0.5&nbsp;&nbsp;</span>Non-functional pumps by altitude</a></span></li></ul></li></ul></li><li><span><a href=\"#Preprocessing\" data-toc-modified-id=\"Preprocessing-0.10\"><span class=\"toc-item-num\">0.10&nbsp;&nbsp;</span>Preprocessing</a></span><ul class=\"toc-item\"><li><span><a href=\"#train-and-test-splits\" data-toc-modified-id=\"train-and-test-splits-0.10.1\"><span class=\"toc-item-num\">0.10.1&nbsp;&nbsp;</span>train and test splits</a></span></li><li><span><a href=\"#Column-Transformer\" data-toc-modified-id=\"Column-Transformer-0.10.2\"><span class=\"toc-item-num\">0.10.2&nbsp;&nbsp;</span>Column Transformer</a></span></li><li><span><a href=\"#Label-Encoding\" data-toc-modified-id=\"Label-Encoding-0.10.3\"><span class=\"toc-item-num\">0.10.3&nbsp;&nbsp;</span>Label Encoding</a></span></li></ul></li><li><span><a href=\"#Building-baseline-models\" data-toc-modified-id=\"Building-baseline-models-0.11\"><span class=\"toc-item-num\">0.11&nbsp;&nbsp;</span>Building baseline models</a></span><ul class=\"toc-item\"><li><span><a href=\"#Logistic-Regression\" data-toc-modified-id=\"Logistic-Regression-0.11.1\"><span class=\"toc-item-num\">0.11.1&nbsp;&nbsp;</span>Logistic Regression</a></span></li><li><span><a href=\"#Decision-Tree\" data-toc-modified-id=\"Decision-Tree-0.11.2\"><span class=\"toc-item-num\">0.11.2&nbsp;&nbsp;</span>Decision Tree</a></span></li><li><span><a href=\"#KNN\" data-toc-modified-id=\"KNN-0.11.3\"><span class=\"toc-item-num\">0.11.3&nbsp;&nbsp;</span>KNN</a></span></li><li><span><a href=\"#SVM\" data-toc-modified-id=\"SVM-0.11.4\"><span class=\"toc-item-num\">0.11.4&nbsp;&nbsp;</span>SVM</a></span></li></ul></li><li><span><a href=\"#Selecting-a-model\" data-toc-modified-id=\"Selecting-a-model-0.12\"><span class=\"toc-item-num\">0.12&nbsp;&nbsp;</span>Selecting a model</a></span></li><li><span><a href=\"#Hyperparameter-Tuning\" data-toc-modified-id=\"Hyperparameter-Tuning-0.13\"><span class=\"toc-item-num\">0.13&nbsp;&nbsp;</span>Hyperparameter Tuning</a></span><ul class=\"toc-item\"><li><span><a href=\"#Max_depth\" data-toc-modified-id=\"Max_depth-0.13.1\"><span class=\"toc-item-num\">0.13.1&nbsp;&nbsp;</span>Max_depth</a></span></li></ul></li></ul></li><li><span><a href=\"#create-a-loop-for-the-classifier-to-run-with-the-different-depth-values\" data-toc-modified-id=\"create-a-loop-for-the-classifier-to-run-with-the-different-depth-values-1\"><span class=\"toc-item-num\">1&nbsp;&nbsp;</span>create a loop for the classifier to run with the different depth values</a></span><ul class=\"toc-item\"><li><ul class=\"toc-item\"><li><span><a href=\"#Min_samples_split\" data-toc-modified-id=\"Min_samples_split-1.0.1\"><span class=\"toc-item-num\">1.0.1&nbsp;&nbsp;</span>Min_samples_split</a></span></li></ul></li></ul></li><li><span><a href=\"#create-a-loop-for-the-classifier-to-run-with-the-different-depth-values\" data-toc-modified-id=\"create-a-loop-for-the-classifier-to-run-with-the-different-depth-values-2\"><span class=\"toc-item-num\">2&nbsp;&nbsp;</span>create a loop for the classifier to run with the different depth values</a></span><ul class=\"toc-item\"><li><ul class=\"toc-item\"><li><span><a href=\"#Min_samples_leaf\" data-toc-modified-id=\"Min_samples_leaf-2.0.1\"><span class=\"toc-item-num\">2.0.1&nbsp;&nbsp;</span>Min_samples_leaf</a></span></li></ul></li></ul></li><li><span><a href=\"#create-a-loop-for-the-classifier-to-run-with-the-different-depth-values\" data-toc-modified-id=\"create-a-loop-for-the-classifier-to-run-with-the-different-depth-values-3\"><span class=\"toc-item-num\">3&nbsp;&nbsp;</span>create a loop for the classifier to run with the different depth values</a></span><ul class=\"toc-item\"><li><ul class=\"toc-item\"><li><span><a href=\"#Model-with-optimized-parameters\" data-toc-modified-id=\"Model-with-optimized-parameters-3.0.1\"><span class=\"toc-item-num\">3.0.1&nbsp;&nbsp;</span>Model with optimized parameters</a></span></li></ul></li><li><span><a href=\"#Feature_importance\" data-toc-modified-id=\"Feature_importance-3.1\"><span class=\"toc-item-num\">3.1&nbsp;&nbsp;</span>Feature_importance</a></span><ul class=\"toc-item\"><li><span><a href=\"#Extracting-top_10-features\" data-toc-modified-id=\"Extracting-top_10-features-3.1.1\"><span class=\"toc-item-num\">3.1.1&nbsp;&nbsp;</span>Extracting top_10 features</a></span></li></ul></li><li><span><a href=\"#Decision-Tree-with-the-top10-features\" data-toc-modified-id=\"Decision-Tree-with-the-top10-features-3.2\"><span class=\"toc-item-num\">3.2&nbsp;&nbsp;</span>Decision Tree with the top10 features</a></span><ul class=\"toc-item\"><li><span><a href=\"#GridSearch-CV\" data-toc-modified-id=\"GridSearch-CV-3.2.1\"><span class=\"toc-item-num\">3.2.1&nbsp;&nbsp;</span>GridSearch CV</a></span></li></ul></li></ul></li><li><span><a href=\"#Random-Forest\" data-toc-modified-id=\"Random-Forest-4\"><span class=\"toc-item-num\">4&nbsp;&nbsp;</span>Random Forest</a></span></li><li><span><a href=\"#Confusion-matrix\" data-toc-modified-id=\"Confusion-matrix-5\"><span class=\"toc-item-num\">5&nbsp;&nbsp;</span>Confusion matrix</a></span></li><li><span><a href=\"#Examining-the-target-feature\" data-toc-modified-id=\"Examining-the-target-feature-6\"><span class=\"toc-item-num\">6&nbsp;&nbsp;</span>Examining the target feature</a></span></li><li><span><a href=\"#Creating-a-new-dataset\" data-toc-modified-id=\"Creating-a-new-dataset-7\"><span class=\"toc-item-num\">7&nbsp;&nbsp;</span>Creating a new dataset</a></span><ul class=\"toc-item\"><li><span><a href=\"#Preprocessing-steps-as-before\" data-toc-modified-id=\"Preprocessing-steps-as-before-7.1\"><span class=\"toc-item-num\">7.1&nbsp;&nbsp;</span>Preprocessing steps as before</a></span></li></ul></li><li><span><a href=\"#instantiate-the-transformer-to-scale-the-numeric-data-and-encode-categorical-data\" data-toc-modified-id=\"instantiate-the-transformer-to-scale-the-numeric-data-and-encode-categorical-data-8\"><span class=\"toc-item-num\">8&nbsp;&nbsp;</span>instantiate the transformer to scale the numeric data and encode categorical data</a></span></li><li><span><a href=\"#Decision-Tree-on-the-new-dataset\" data-toc-modified-id=\"Decision-Tree-on-the-new-dataset-9\"><span class=\"toc-item-num\">9&nbsp;&nbsp;</span>Decision Tree on the new dataset</a></span><ul class=\"toc-item\"><li><span><a href=\"#Confusion-Matrix\" data-toc-modified-id=\"Confusion-Matrix-9.1\"><span class=\"toc-item-num\">9.1&nbsp;&nbsp;</span>Confusion Matrix</a></span></li><li><span><a href=\"#GridSearchCV\" data-toc-modified-id=\"GridSearchCV-9.2\"><span class=\"toc-item-num\">9.2&nbsp;&nbsp;</span>GridSearchCV</a></span></li><li><span><a href=\"#Combining-GridSearch-and-RandomForest\" data-toc-modified-id=\"Combining-GridSearch-and-RandomForest-9.3\"><span class=\"toc-item-num\">9.3&nbsp;&nbsp;</span>Combining GridSearch and RandomForest</a></span></li></ul></li><li><span><a href=\"##define-the-parameter-grid\" data-toc-modified-id=\"#define-the-parameter-grid-10\"><span class=\"toc-item-num\">10&nbsp;&nbsp;</span>#define the parameter grid</a></span></li><li><span><a href=\"##constraining-size-based-on-tuned-model-params-to-reduce-computation-time\" data-toc-modified-id=\"#constraining-size-based-on-tuned-model-params-to-reduce-computation-time-11\"><span class=\"toc-item-num\">11&nbsp;&nbsp;</span>#constraining size based on tuned model params to reduce computation time</a></span></li><li><span><a href=\"#param_grid-=-{'max_depth':-np.arange(25,30),\" data-toc-modified-id=\"param_grid-=-{'max_depth':-np.arange(25,30),-12\"><span class=\"toc-item-num\">12&nbsp;&nbsp;</span>param_grid = {'max_depth': np.arange(25,30),</a></span></li><li><span><a href=\"#'min_samples_split':-np.arange(15,20),\" data-toc-modified-id=\"'min_samples_split':-np.arange(15,20),-13\"><span class=\"toc-item-num\">13&nbsp;&nbsp;</span>'min_samples_split': np.arange(15,20),</a></span></li><li><span><a href=\"#'min_samples_leaf':-np.arange(10,15)\" data-toc-modified-id=\"'min_samples_leaf':-np.arange(10,15)-14\"><span class=\"toc-item-num\">14&nbsp;&nbsp;</span>'min_samples_leaf': np.arange(10,15)</a></span></li><li><span><a href=\"#}\" data-toc-modified-id=\"}-15\"><span class=\"toc-item-num\">15&nbsp;&nbsp;</span>}</a></span></li><li><span><a href=\"##instantiate-the-classifier\" data-toc-modified-id=\"#instantiate-the-classifier-16\"><span class=\"toc-item-num\">16&nbsp;&nbsp;</span>#instantiate the classifier</a></span></li><li><span><a href=\"#forest-=RandomForestClassifier(n_estimators=100,criterion='entropy')\" data-toc-modified-id=\"forest-=RandomForestClassifier(n_estimators=100,criterion='entropy')-17\"><span class=\"toc-item-num\">17&nbsp;&nbsp;</span>forest =RandomForestClassifier(n_estimators=100,criterion='entropy')</a></span></li><li><span><a href=\"#gs-=-GridSearchCV(estimator=forest,param_grid=param_grid,cv=5)\" data-toc-modified-id=\"gs-=-GridSearchCV(estimator=forest,param_grid=param_grid,cv=5)-18\"><span class=\"toc-item-num\">18&nbsp;&nbsp;</span>gs = GridSearchCV(estimator=forest,param_grid=param_grid,cv=5)</a></span></li><li><span><a href=\"##fit-the-data\" data-toc-modified-id=\"#fit-the-data-19\"><span class=\"toc-item-num\">19&nbsp;&nbsp;</span>#fit the data</a></span></li><li><span><a href=\"#gs.fit(X_train,y_train)\" data-toc-modified-id=\"gs.fit(X_train,y_train)-20\"><span class=\"toc-item-num\">20&nbsp;&nbsp;</span>gs.fit(X_train,y_train)</a></span></li><li><span><a href=\"##predict\" data-toc-modified-id=\"#predict-21\"><span class=\"toc-item-num\">21&nbsp;&nbsp;</span>#predict</a></span></li><li><span><a href=\"#y_hat_test-=-gs.predict(X_test)\" data-toc-modified-id=\"y_hat_test-=-gs.predict(X_test)-22\"><span class=\"toc-item-num\">22&nbsp;&nbsp;</span>y_hat_test = gs.predict(X_test)</a></span></li><li><span><a href=\"#print('TEST-SCORES')\" data-toc-modified-id=\"print('TEST-SCORES')-23\"><span class=\"toc-item-num\">23&nbsp;&nbsp;</span>print('TEST SCORES')</a></span></li><li><span><a href=\"#print('----------------------------------------------------------')\" data-toc-modified-id=\"print('----------------------------------------------------------')-24\"><span class=\"toc-item-num\">24&nbsp;&nbsp;</span>print('----------------------------------------------------------')</a></span></li><li><span><a href=\"#print(classification_report(y_test,y_hat_test,target_names=names))\" data-toc-modified-id=\"print(classification_report(y_test,y_hat_test,target_names=names))-25\"><span class=\"toc-item-num\">25&nbsp;&nbsp;</span>print(classification_report(y_test,y_hat_test,target_names=names))</a></span></li><li><span><a href=\"#f1_score_grid-=-f1_score(y_test,y_hat_test,average='macro')\" data-toc-modified-id=\"f1_score_grid-=-f1_score(y_test,y_hat_test,average='macro')-26\"><span class=\"toc-item-num\">26&nbsp;&nbsp;</span>f1_score_grid = f1_score(y_test,y_hat_test,average='macro')</a></span></li><li><span><a href=\"#Next-Steps\" data-toc-modified-id=\"Next-Steps-27\"><span class=\"toc-item-num\">27&nbsp;&nbsp;</span>Next Steps</a></span></li></ul></div>"
      ]
    },
    {
      "cell_type": "markdown",
      "metadata": {
        "id": "ZLSy7OxDwxcC"
      },
      "source": [
        "## Business Objective\n",
        "\n",
        "To help the Government of Tanzania monitor the condition of installed water pumps across the country.Given a set of parameters, the model should be able to predict the status of a water pump. Status can be as classified as:**\n",
        "\n",
        "1. Functional\n",
        "2. Functional needs repair\n",
        "3. Non functional\n",
        "    "
      ]
    },
    {
      "cell_type": "markdown",
      "metadata": {
        "id": "GmKam7qvT2CU"
      },
      "source": [
        "## Model Evaluation\n",
        "\n",
        "Since the water pumps serve villages and a large number of people, it is critical that they are not misclassified. For e.g. classifying a non-functional pump as functional could have catastrophic consequences for the people of a village if not attended to for an extended period of time.\n",
        "\n",
        "Hence, rather than look for accuracy, we will look at the F1-score of the model to determine it effectiveness. The F-score is a harmonic mean of precision and recall and thus help in reducing the FPs and FNs.\n",
        "\n",
        "- Precision:\n",
        "   -  How often did the model correctly identify the pump as 'functional' (or any other class).\n",
        "     - Mathematically defined as: TP(TP+FP)\n",
        "\n",
        "- Recall:\n",
        "   - How many of the actually 'functional'(or any other class) pumps did the model identify?\n",
        "      -  Mathematically defined as: TP(TP+FN)\n"
      ]
    },
    {
      "cell_type": "markdown",
      "metadata": {
        "id": "sy3tPkHgwxcD"
      },
      "source": [
        "## Dataset"
      ]
    },
    {
      "cell_type": "markdown",
      "metadata": {
        "id": "yh87sGsLwxcD"
      },
      "source": [
        "Dataset sourced from: https://www.drivendata.org/competitions/7/pump-it-up-data-mining-the-water-table/page/23/"
      ]
    },
    {
      "cell_type": "markdown",
      "metadata": {
        "id": "QMFXlOGCwxcD"
      },
      "source": [
        "## Import libraries"
      ]
    },
    {
      "cell_type": "code",
      "execution_count": 54,
      "metadata": {
        "id": "9viqkcxDwxcD"
      },
      "outputs": [],
      "source": [
        "import pandas as pd\n",
        "import numpy as np\n",
        "import geopandas as gpd\n",
        "from shapely.geometry import Point, Polygon\n",
        "import seaborn as sns\n",
        "import matplotlib.pyplot as plt\n",
        "from sklearn.preprocessing import OneHotEncoder\n",
        "from sklearn.preprocessing import LabelEncoder\n",
        "from sklearn.compose import ColumnTransformer\n",
        "from sklearn.model_selection import train_test_split\n",
        "from sklearn.linear_model import LogisticRegression\n",
        "from sklearn.model_selection import cross_val_score\n",
        "from sklearn.metrics import classification_report\n",
        "from sklearn.metrics import f1_score,accuracy_score,precision_score,recall_score\n",
        "from sklearn.tree import DecisionTreeClassifier\n",
        "from sklearn.neighbors import KNeighborsClassifier\n",
        "from sklearn.model_selection import GridSearchCV\n",
        "from sklearn.ensemble import RandomForestClassifier\n",
        "from sklearn.metrics import confusion_matrix,ConfusionMatrixDisplay\n",
        "from sklearn.preprocessing import MinMaxScaler\n",
        "from sklearn.preprocessing import StandardScaler\n",
        "from sklearn.pipeline import Pipeline\n",
        "import warnings\n",
        "warnings.filterwarnings('ignore')"
      ]
    },
    {
      "cell_type": "markdown",
      "metadata": {
        "id": "sl1rX4CVwxcD"
      },
      "source": [
        "## Importing Data"
      ]
    },
    {
      "cell_type": "code",
      "execution_count": 2,
      "metadata": {
        "colab": {
          "base_uri": "https://localhost:8080/",
          "height": 403
        },
        "id": "ae9UpsVgwxcE",
        "outputId": "0515b872-48ee-49de-8822-01c0d3f807b7",
        "scrolled": true
      },
      "outputs": [
        {
          "output_type": "execute_result",
          "data": {
            "text/plain": [
              "      id  amount_tsh date_recorded        funder  gps_height     installer  \\\n",
              "0  69572      6000.0     3/14/2011         Roman        1390         Roman   \n",
              "1   8776         0.0      3/6/2013       Grumeti        1399       GRUMETI   \n",
              "2  34310        25.0     2/25/2013  Lottery Club         686  World vision   \n",
              "3  67743         0.0     1/28/2013        Unicef         263        UNICEF   \n",
              "4  19728         0.0     7/13/2011   Action In A           0       Artisan   \n",
              "\n",
              "   longitude   latitude              wpt_name  num_private  ... water_quality  \\\n",
              "0  34.938093  -9.856322                  none            0  ...          soft   \n",
              "1  34.698766  -2.147466              Zahanati            0  ...          soft   \n",
              "2  37.460664  -3.821329           Kwa Mahundi            0  ...          soft   \n",
              "3  38.486161 -11.155298  Zahanati Ya Nanyumbu            0  ...          soft   \n",
              "4  31.130847  -1.825359               Shuleni            0  ...          soft   \n",
              "\n",
              "  quality_group      quantity  quantity_group                source  \\\n",
              "0          good        enough          enough                spring   \n",
              "1          good  insufficient    insufficient  rainwater harvesting   \n",
              "2          good        enough          enough                   dam   \n",
              "3          good           dry             dry           machine dbh   \n",
              "4          good      seasonal        seasonal  rainwater harvesting   \n",
              "\n",
              "            source_type source_class              waterpoint_type  \\\n",
              "0                spring  groundwater           communal standpipe   \n",
              "1  rainwater harvesting      surface           communal standpipe   \n",
              "2                   dam      surface  communal standpipe multiple   \n",
              "3              borehole  groundwater  communal standpipe multiple   \n",
              "4  rainwater harvesting      surface           communal standpipe   \n",
              "\n",
              "  waterpoint_type_group    status_group  \n",
              "0    communal standpipe      functional  \n",
              "1    communal standpipe      functional  \n",
              "2    communal standpipe      functional  \n",
              "3    communal standpipe  non functional  \n",
              "4    communal standpipe      functional  \n",
              "\n",
              "[5 rows x 41 columns]"
            ],
            "text/html": [
              "\n",
              "\n",
              "  <div id=\"df-907e6863-25e2-41f8-864d-3a3495f825a0\">\n",
              "    <div class=\"colab-df-container\">\n",
              "      <div>\n",
              "<style scoped>\n",
              "    .dataframe tbody tr th:only-of-type {\n",
              "        vertical-align: middle;\n",
              "    }\n",
              "\n",
              "    .dataframe tbody tr th {\n",
              "        vertical-align: top;\n",
              "    }\n",
              "\n",
              "    .dataframe thead th {\n",
              "        text-align: right;\n",
              "    }\n",
              "</style>\n",
              "<table border=\"1\" class=\"dataframe\">\n",
              "  <thead>\n",
              "    <tr style=\"text-align: right;\">\n",
              "      <th></th>\n",
              "      <th>id</th>\n",
              "      <th>amount_tsh</th>\n",
              "      <th>date_recorded</th>\n",
              "      <th>funder</th>\n",
              "      <th>gps_height</th>\n",
              "      <th>installer</th>\n",
              "      <th>longitude</th>\n",
              "      <th>latitude</th>\n",
              "      <th>wpt_name</th>\n",
              "      <th>num_private</th>\n",
              "      <th>...</th>\n",
              "      <th>water_quality</th>\n",
              "      <th>quality_group</th>\n",
              "      <th>quantity</th>\n",
              "      <th>quantity_group</th>\n",
              "      <th>source</th>\n",
              "      <th>source_type</th>\n",
              "      <th>source_class</th>\n",
              "      <th>waterpoint_type</th>\n",
              "      <th>waterpoint_type_group</th>\n",
              "      <th>status_group</th>\n",
              "    </tr>\n",
              "  </thead>\n",
              "  <tbody>\n",
              "    <tr>\n",
              "      <th>0</th>\n",
              "      <td>69572</td>\n",
              "      <td>6000.0</td>\n",
              "      <td>3/14/2011</td>\n",
              "      <td>Roman</td>\n",
              "      <td>1390</td>\n",
              "      <td>Roman</td>\n",
              "      <td>34.938093</td>\n",
              "      <td>-9.856322</td>\n",
              "      <td>none</td>\n",
              "      <td>0</td>\n",
              "      <td>...</td>\n",
              "      <td>soft</td>\n",
              "      <td>good</td>\n",
              "      <td>enough</td>\n",
              "      <td>enough</td>\n",
              "      <td>spring</td>\n",
              "      <td>spring</td>\n",
              "      <td>groundwater</td>\n",
              "      <td>communal standpipe</td>\n",
              "      <td>communal standpipe</td>\n",
              "      <td>functional</td>\n",
              "    </tr>\n",
              "    <tr>\n",
              "      <th>1</th>\n",
              "      <td>8776</td>\n",
              "      <td>0.0</td>\n",
              "      <td>3/6/2013</td>\n",
              "      <td>Grumeti</td>\n",
              "      <td>1399</td>\n",
              "      <td>GRUMETI</td>\n",
              "      <td>34.698766</td>\n",
              "      <td>-2.147466</td>\n",
              "      <td>Zahanati</td>\n",
              "      <td>0</td>\n",
              "      <td>...</td>\n",
              "      <td>soft</td>\n",
              "      <td>good</td>\n",
              "      <td>insufficient</td>\n",
              "      <td>insufficient</td>\n",
              "      <td>rainwater harvesting</td>\n",
              "      <td>rainwater harvesting</td>\n",
              "      <td>surface</td>\n",
              "      <td>communal standpipe</td>\n",
              "      <td>communal standpipe</td>\n",
              "      <td>functional</td>\n",
              "    </tr>\n",
              "    <tr>\n",
              "      <th>2</th>\n",
              "      <td>34310</td>\n",
              "      <td>25.0</td>\n",
              "      <td>2/25/2013</td>\n",
              "      <td>Lottery Club</td>\n",
              "      <td>686</td>\n",
              "      <td>World vision</td>\n",
              "      <td>37.460664</td>\n",
              "      <td>-3.821329</td>\n",
              "      <td>Kwa Mahundi</td>\n",
              "      <td>0</td>\n",
              "      <td>...</td>\n",
              "      <td>soft</td>\n",
              "      <td>good</td>\n",
              "      <td>enough</td>\n",
              "      <td>enough</td>\n",
              "      <td>dam</td>\n",
              "      <td>dam</td>\n",
              "      <td>surface</td>\n",
              "      <td>communal standpipe multiple</td>\n",
              "      <td>communal standpipe</td>\n",
              "      <td>functional</td>\n",
              "    </tr>\n",
              "    <tr>\n",
              "      <th>3</th>\n",
              "      <td>67743</td>\n",
              "      <td>0.0</td>\n",
              "      <td>1/28/2013</td>\n",
              "      <td>Unicef</td>\n",
              "      <td>263</td>\n",
              "      <td>UNICEF</td>\n",
              "      <td>38.486161</td>\n",
              "      <td>-11.155298</td>\n",
              "      <td>Zahanati Ya Nanyumbu</td>\n",
              "      <td>0</td>\n",
              "      <td>...</td>\n",
              "      <td>soft</td>\n",
              "      <td>good</td>\n",
              "      <td>dry</td>\n",
              "      <td>dry</td>\n",
              "      <td>machine dbh</td>\n",
              "      <td>borehole</td>\n",
              "      <td>groundwater</td>\n",
              "      <td>communal standpipe multiple</td>\n",
              "      <td>communal standpipe</td>\n",
              "      <td>non functional</td>\n",
              "    </tr>\n",
              "    <tr>\n",
              "      <th>4</th>\n",
              "      <td>19728</td>\n",
              "      <td>0.0</td>\n",
              "      <td>7/13/2011</td>\n",
              "      <td>Action In A</td>\n",
              "      <td>0</td>\n",
              "      <td>Artisan</td>\n",
              "      <td>31.130847</td>\n",
              "      <td>-1.825359</td>\n",
              "      <td>Shuleni</td>\n",
              "      <td>0</td>\n",
              "      <td>...</td>\n",
              "      <td>soft</td>\n",
              "      <td>good</td>\n",
              "      <td>seasonal</td>\n",
              "      <td>seasonal</td>\n",
              "      <td>rainwater harvesting</td>\n",
              "      <td>rainwater harvesting</td>\n",
              "      <td>surface</td>\n",
              "      <td>communal standpipe</td>\n",
              "      <td>communal standpipe</td>\n",
              "      <td>functional</td>\n",
              "    </tr>\n",
              "  </tbody>\n",
              "</table>\n",
              "<p>5 rows × 41 columns</p>\n",
              "</div>\n",
              "      <button class=\"colab-df-convert\" onclick=\"convertToInteractive('df-907e6863-25e2-41f8-864d-3a3495f825a0')\"\n",
              "              title=\"Convert this dataframe to an interactive table.\"\n",
              "              style=\"display:none;\">\n",
              "\n",
              "  <svg xmlns=\"http://www.w3.org/2000/svg\" height=\"24px\"viewBox=\"0 0 24 24\"\n",
              "       width=\"24px\">\n",
              "    <path d=\"M0 0h24v24H0V0z\" fill=\"none\"/>\n",
              "    <path d=\"M18.56 5.44l.94 2.06.94-2.06 2.06-.94-2.06-.94-.94-2.06-.94 2.06-2.06.94zm-11 1L8.5 8.5l.94-2.06 2.06-.94-2.06-.94L8.5 2.5l-.94 2.06-2.06.94zm10 10l.94 2.06.94-2.06 2.06-.94-2.06-.94-.94-2.06-.94 2.06-2.06.94z\"/><path d=\"M17.41 7.96l-1.37-1.37c-.4-.4-.92-.59-1.43-.59-.52 0-1.04.2-1.43.59L10.3 9.45l-7.72 7.72c-.78.78-.78 2.05 0 2.83L4 21.41c.39.39.9.59 1.41.59.51 0 1.02-.2 1.41-.59l7.78-7.78 2.81-2.81c.8-.78.8-2.07 0-2.86zM5.41 20L4 18.59l7.72-7.72 1.47 1.35L5.41 20z\"/>\n",
              "  </svg>\n",
              "      </button>\n",
              "\n",
              "\n",
              "\n",
              "    <div id=\"df-13af0339-cf77-4b1f-bc50-20fd45bc09f6\">\n",
              "      <button class=\"colab-df-quickchart\" onclick=\"quickchart('df-13af0339-cf77-4b1f-bc50-20fd45bc09f6')\"\n",
              "              title=\"Suggest charts.\"\n",
              "              style=\"display:none;\">\n",
              "\n",
              "<svg xmlns=\"http://www.w3.org/2000/svg\" height=\"24px\"viewBox=\"0 0 24 24\"\n",
              "     width=\"24px\">\n",
              "    <g>\n",
              "        <path d=\"M19 3H5c-1.1 0-2 .9-2 2v14c0 1.1.9 2 2 2h14c1.1 0 2-.9 2-2V5c0-1.1-.9-2-2-2zM9 17H7v-7h2v7zm4 0h-2V7h2v10zm4 0h-2v-4h2v4z\"/>\n",
              "    </g>\n",
              "</svg>\n",
              "      </button>\n",
              "    </div>\n",
              "\n",
              "<style>\n",
              "  .colab-df-quickchart {\n",
              "    background-color: #E8F0FE;\n",
              "    border: none;\n",
              "    border-radius: 50%;\n",
              "    cursor: pointer;\n",
              "    display: none;\n",
              "    fill: #1967D2;\n",
              "    height: 32px;\n",
              "    padding: 0 0 0 0;\n",
              "    width: 32px;\n",
              "  }\n",
              "\n",
              "  .colab-df-quickchart:hover {\n",
              "    background-color: #E2EBFA;\n",
              "    box-shadow: 0px 1px 2px rgba(60, 64, 67, 0.3), 0px 1px 3px 1px rgba(60, 64, 67, 0.15);\n",
              "    fill: #174EA6;\n",
              "  }\n",
              "\n",
              "  [theme=dark] .colab-df-quickchart {\n",
              "    background-color: #3B4455;\n",
              "    fill: #D2E3FC;\n",
              "  }\n",
              "\n",
              "  [theme=dark] .colab-df-quickchart:hover {\n",
              "    background-color: #434B5C;\n",
              "    box-shadow: 0px 1px 3px 1px rgba(0, 0, 0, 0.15);\n",
              "    filter: drop-shadow(0px 1px 2px rgba(0, 0, 0, 0.3));\n",
              "    fill: #FFFFFF;\n",
              "  }\n",
              "</style>\n",
              "\n",
              "    <script>\n",
              "      async function quickchart(key) {\n",
              "        const containerElement = document.querySelector('#' + key);\n",
              "        const charts = await google.colab.kernel.invokeFunction(\n",
              "            'suggestCharts', [key], {});\n",
              "      }\n",
              "    </script>\n",
              "\n",
              "\n",
              "      <script>\n",
              "\n",
              "function displayQuickchartButton(domScope) {\n",
              "  let quickchartButtonEl =\n",
              "    domScope.querySelector('#df-13af0339-cf77-4b1f-bc50-20fd45bc09f6 button.colab-df-quickchart');\n",
              "  quickchartButtonEl.style.display =\n",
              "    google.colab.kernel.accessAllowed ? 'block' : 'none';\n",
              "}\n",
              "\n",
              "        displayQuickchartButton(document);\n",
              "      </script>\n",
              "      <style>\n",
              "    .colab-df-container {\n",
              "      display:flex;\n",
              "      flex-wrap:wrap;\n",
              "      gap: 12px;\n",
              "    }\n",
              "\n",
              "    .colab-df-convert {\n",
              "      background-color: #E8F0FE;\n",
              "      border: none;\n",
              "      border-radius: 50%;\n",
              "      cursor: pointer;\n",
              "      display: none;\n",
              "      fill: #1967D2;\n",
              "      height: 32px;\n",
              "      padding: 0 0 0 0;\n",
              "      width: 32px;\n",
              "    }\n",
              "\n",
              "    .colab-df-convert:hover {\n",
              "      background-color: #E2EBFA;\n",
              "      box-shadow: 0px 1px 2px rgba(60, 64, 67, 0.3), 0px 1px 3px 1px rgba(60, 64, 67, 0.15);\n",
              "      fill: #174EA6;\n",
              "    }\n",
              "\n",
              "    [theme=dark] .colab-df-convert {\n",
              "      background-color: #3B4455;\n",
              "      fill: #D2E3FC;\n",
              "    }\n",
              "\n",
              "    [theme=dark] .colab-df-convert:hover {\n",
              "      background-color: #434B5C;\n",
              "      box-shadow: 0px 1px 3px 1px rgba(0, 0, 0, 0.15);\n",
              "      filter: drop-shadow(0px 1px 2px rgba(0, 0, 0, 0.3));\n",
              "      fill: #FFFFFF;\n",
              "    }\n",
              "  </style>\n",
              "\n",
              "      <script>\n",
              "        const buttonEl =\n",
              "          document.querySelector('#df-907e6863-25e2-41f8-864d-3a3495f825a0 button.colab-df-convert');\n",
              "        buttonEl.style.display =\n",
              "          google.colab.kernel.accessAllowed ? 'block' : 'none';\n",
              "\n",
              "        async function convertToInteractive(key) {\n",
              "          const element = document.querySelector('#df-907e6863-25e2-41f8-864d-3a3495f825a0');\n",
              "          const dataTable =\n",
              "            await google.colab.kernel.invokeFunction('convertToInteractive',\n",
              "                                                     [key], {});\n",
              "          if (!dataTable) return;\n",
              "\n",
              "          const docLinkHtml = 'Like what you see? Visit the ' +\n",
              "            '<a target=\"_blank\" href=https://colab.research.google.com/notebooks/data_table.ipynb>data table notebook</a>'\n",
              "            + ' to learn more about interactive tables.';\n",
              "          element.innerHTML = '';\n",
              "          dataTable['output_type'] = 'display_data';\n",
              "          await google.colab.output.renderOutput(dataTable, element);\n",
              "          const docLink = document.createElement('div');\n",
              "          docLink.innerHTML = docLinkHtml;\n",
              "          element.appendChild(docLink);\n",
              "        }\n",
              "      </script>\n",
              "    </div>\n",
              "  </div>\n"
            ]
          },
          "metadata": {},
          "execution_count": 2
        }
      ],
      "source": [
        "# importing dataset\n",
        "url = 'https://raw.githubusercontent.com/rahulakrish/water_pump_classifier/main/waterwell.csv'\n",
        "df = pd.read_csv(url)\n",
        "df.head()"
      ]
    },
    {
      "cell_type": "markdown",
      "metadata": {
        "id": "zqgBMEgIwxcE"
      },
      "source": [
        "## Mapping waterpump distribution"
      ]
    },
    {
      "cell_type": "markdown",
      "metadata": {
        "id": "0jqqkSpoT2CX"
      },
      "source": [
        "Let's plot the water pumps on a amp of Tanzania and get an idea of their distribution. We can also higlight the status of each pump based on their condition and check for discernible patterns."
      ]
    },
    {
      "cell_type": "code",
      "execution_count": 3,
      "metadata": {
        "id": "hi0A1-GSwxcE"
      },
      "outputs": [],
      "source": [
        "# #create a new df\n",
        "# mapdf = df.copy()\n",
        "\n",
        "# #filter out the longitude values\n",
        "# mapdf = mapdf[mapdf['longitude'] > 0]\n",
        "\n",
        "# #read the shape file with geopandas\n",
        "# tanzania_map = gpd.read_file('Districts and TC as 2020.shp')\n",
        "# # tanzania_map.plot(color='lightgrey',figsize=(8,8)); just look at the map of tanzania if you want to\n",
        "\n",
        "# crs = {'init':'EPSG:4326'} #define CRS\n",
        "# geometry = [Point(xy) for xy in zip(mapdf['longitude'], df['latitude'])] #create Points\n",
        "# geo_df = gpd.GeoDataFrame(mapdf,\n",
        "#                           crs = crs,\n",
        "#                           geometry = geometry) #define the geometry df\n",
        "\n",
        "# #plot the data\n",
        "# fig, ax = plt.subplots(figsize = (10,10))\n",
        "# tanzania_map.to_crs(epsg=4326).plot(ax=ax, color='lightgrey')\n",
        "# sns.scatterplot(x=\"longitude\", y=\"latitude\",data=mapdf,hue='status_group',ax=ax);\n",
        "# ax.set_title('Distribution of Waterpumps in Tanzania');"
      ]
    },
    {
      "cell_type": "markdown",
      "metadata": {
        "id": "7VVXYoCJT2CX"
      },
      "source": [
        "We can that there are pockets through out the country where there are no pumps installed. This is could be because of geographical features like a desert,mountain range etc.\n",
        "\n",
        "From the map, we can see there seems to be an even spread between the functional and non-functional pumps except for the south eastern region where the pumps seem to be predominantly non-functional. Pumps that are functional but need repair are sparsely represented"
      ]
    },
    {
      "cell_type": "markdown",
      "metadata": {
        "id": "8OaS0Qio0-lO"
      },
      "source": [
        "## Class distribution"
      ]
    },
    {
      "cell_type": "markdown",
      "metadata": {
        "id": "0tfrQc6IT2CX"
      },
      "source": [
        "Let's get an idea of the distribution of the three classes:"
      ]
    },
    {
      "cell_type": "code",
      "execution_count": 4,
      "metadata": {
        "colab": {
          "base_uri": "https://localhost:8080/",
          "height": 614
        },
        "id": "WtYCkRGGT2CX",
        "outputId": "38d59d7c-3378-48a1-f793-24c6c7818075",
        "scrolled": false
      },
      "outputs": [
        {
          "output_type": "display_data",
          "data": {
            "text/plain": [
              "<Figure size 500x500 with 1 Axes>"
            ],
            "image/png": "[encoded data removed]"
          },
          "metadata": {}
        }
      ],
      "source": [
        "#creating a df for the counts of each class\n",
        "counts = pd.DataFrame(data=df['status_group'].value_counts())\n",
        "\n",
        "#setting up the plot\n",
        "fig,ax=plt.subplots(figsize=(5,5))\n",
        "ax.bar(x = counts.index,height = counts['status_group']);\n",
        "ax.set_xticklabels(labels=counts.index,rotation = 90);\n",
        "ax.set_title('Pump Status Distribution');"
      ]
    },
    {
      "cell_type": "markdown",
      "metadata": {
        "id": "jF7hcuOOT2CX"
      },
      "source": [
        "As we inferred from the map, the 'function needs repair' class number is very low compared to the other two classes. This imbalance will lead to problems when modeling.\n",
        "\n",
        "We can approach the modeling process in two ways:\n",
        "   - Build a model with the data as is or\n",
        "   - Re-classify  the 'needs repair' as 'non-functional' and make this a binary problem. This would also make sense from a practical stand point as well, since those pumps will have to be fixed anyway."
      ]
    },
    {
      "cell_type": "markdown",
      "metadata": {
        "id": "mSyrCGGeT2CX"
      },
      "source": [
        "Let's leave the data as is and see what we can do. We can modify the data later if we find the results unsatisfactory."
      ]
    },
    {
      "cell_type": "markdown",
      "metadata": {
        "id": "Wm7-lkt8wxcE"
      },
      "source": [
        "## EDA"
      ]
    },
    {
      "cell_type": "code",
      "execution_count": 5,
      "metadata": {
        "colab": {
          "base_uri": "https://localhost:8080/"
        },
        "id": "2rszC0HywxcE",
        "outputId": "9dea4f92-4721-4cbd-cbae-bc4404d75857",
        "scrolled": false
      },
      "outputs": [
        {
          "output_type": "stream",
          "name": "stdout",
          "text": [
            "<class 'pandas.core.frame.DataFrame'>\n",
            "RangeIndex: 59400 entries, 0 to 59399\n",
            "Data columns (total 41 columns):\n",
            " #   Column                 Non-Null Count  Dtype  \n",
            "---  ------                 --------------  -----  \n",
            " 0   id                     59400 non-null  int64  \n",
            " 1   amount_tsh             59400 non-null  float64\n",
            " 2   date_recorded          59400 non-null  object \n",
            " 3   funder                 55765 non-null  object \n",
            " 4   gps_height             59400 non-null  int64  \n",
            " 5   installer              55745 non-null  object \n",
            " 6   longitude              59400 non-null  float64\n",
            " 7   latitude               59400 non-null  float64\n",
            " 8   wpt_name               59400 non-null  object \n",
            " 9   num_private            59400 non-null  int64  \n",
            " 10  basin                  59400 non-null  object \n",
            " 11  subvillage             59029 non-null  object \n",
            " 12  region                 59400 non-null  object \n",
            " 13  region_code            59400 non-null  int64  \n",
            " 14  district_code          59400 non-null  int64  \n",
            " 15  lga                    59400 non-null  object \n",
            " 16  ward                   59400 non-null  object \n",
            " 17  population             59400 non-null  int64  \n",
            " 18  public_meeting         56066 non-null  object \n",
            " 19  recorded_by            59400 non-null  object \n",
            " 20  scheme_management      55523 non-null  object \n",
            " 21  scheme_name            31234 non-null  object \n",
            " 22  permit                 56344 non-null  object \n",
            " 23  construction_year      59400 non-null  int64  \n",
            " 24  extraction_type        59400 non-null  object \n",
            " 25  extraction_type_group  59400 non-null  object \n",
            " 26  extraction_type_class  59400 non-null  object \n",
            " 27  management             59400 non-null  object \n",
            " 28  management_group       59400 non-null  object \n",
            " 29  payment                59400 non-null  object \n",
            " 30  payment_type           59400 non-null  object \n",
            " 31  water_quality          59400 non-null  object \n",
            " 32  quality_group          59400 non-null  object \n",
            " 33  quantity               59400 non-null  object \n",
            " 34  quantity_group         59400 non-null  object \n",
            " 35  source                 59400 non-null  object \n",
            " 36  source_type            59400 non-null  object \n",
            " 37  source_class           59400 non-null  object \n",
            " 38  waterpoint_type        59400 non-null  object \n",
            " 39  waterpoint_type_group  59400 non-null  object \n",
            " 40  status_group           59400 non-null  object \n",
            "dtypes: float64(3), int64(7), object(31)\n",
            "memory usage: 18.6+ MB\n"
          ]
        }
      ],
      "source": [
        "#getting info of the dataset\n",
        "df.info()"
      ]
    },
    {
      "cell_type": "markdown",
      "metadata": {
        "id": "Az3Db8G0P0Kd"
      },
      "source": [
        "### `date_recorded`"
      ]
    },
    {
      "cell_type": "markdown",
      "metadata": {
        "id": "nUabBKwXoX_c"
      },
      "source": [
        "A look at `date_recorded` can provide us insight on whether there is a systematic way the data is collected:"
      ]
    },
    {
      "cell_type": "code",
      "execution_count": 6,
      "metadata": {
        "colab": {
          "base_uri": "https://localhost:8080/",
          "height": 493
        },
        "id": "eVWRjPANCOdS",
        "outputId": "cb344fe2-9aa6-4529-90d2-9e5ae99aca47"
      },
      "outputs": [
        {
          "output_type": "display_data",
          "data": {
            "text/plain": [
              "<Figure size 640x480 with 1 Axes>"
            ],
            "image/png": "[encoded data removed]"
          },
          "metadata": {}
        }
      ],
      "source": [
        "#converting the format\n",
        "df['date_recorded'] = pd.to_datetime(df['date_recorded'])\n",
        "\n",
        "#getting the year alone\n",
        "df['year'] = df['date_recorded'].dt.strftime('%Y')\n",
        "\n",
        "#grouping by and using count as the aggregate function\n",
        "years=df.groupby(df['year']).count()\n",
        "\n",
        "#plotting\n",
        "years.plot(kind='bar',y='id',legend=False,title = 'Data recorded by years');"
      ]
    },
    {
      "cell_type": "markdown",
      "metadata": {
        "id": "260i03bYMBK4"
      },
      "source": [
        "Looks like data collection about the pumps is inonsistent. Mapping out a time table to collect information about the pumps would definetly help in building a preventive maintainence schedule and avoid breakdowns."
      ]
    },
    {
      "cell_type": "markdown",
      "metadata": {
        "id": "MDf_iLajT2CY"
      },
      "source": [
        "We can also see a mix of categorical and numerical data and also columns with missing values. Let's seperate categorical and numerical data to get a clearer idea:"
      ]
    },
    {
      "cell_type": "markdown",
      "metadata": {
        "id": "bv81Ek2gT2CY"
      },
      "source": [
        "### Categorical Data"
      ]
    },
    {
      "cell_type": "code",
      "execution_count": 7,
      "metadata": {
        "colab": {
          "base_uri": "https://localhost:8080/"
        },
        "id": "_NRaEoKXT2CY",
        "outputId": "4ffb0db6-2f89-455e-9792-015c54152296",
        "scrolled": true
      },
      "outputs": [
        {
          "output_type": "execute_result",
          "data": {
            "text/plain": [
              "['funder',\n",
              " 'installer',\n",
              " 'wpt_name',\n",
              " 'basin',\n",
              " 'subvillage',\n",
              " 'region',\n",
              " 'lga',\n",
              " 'ward',\n",
              " 'public_meeting',\n",
              " 'recorded_by',\n",
              " 'scheme_management',\n",
              " 'scheme_name',\n",
              " 'permit',\n",
              " 'extraction_type',\n",
              " 'extraction_type_group',\n",
              " 'extraction_type_class',\n",
              " 'management',\n",
              " 'management_group',\n",
              " 'payment',\n",
              " 'payment_type',\n",
              " 'water_quality',\n",
              " 'quality_group',\n",
              " 'quantity',\n",
              " 'quantity_group',\n",
              " 'source',\n",
              " 'source_type',\n",
              " 'source_class',\n",
              " 'waterpoint_type',\n",
              " 'waterpoint_type_group',\n",
              " 'year']"
            ]
          },
          "metadata": {},
          "execution_count": 7
        }
      ],
      "source": [
        "#getting the list of categorical data\n",
        "cat_cols = [col for col in df.columns if df[col].dtypes == 'O']\n",
        "#removing status_group since this is out target variable\n",
        "cat_cols.remove('status_group')\n",
        "cat_cols"
      ]
    },
    {
      "cell_type": "markdown",
      "metadata": {
        "id": "s3o0c3UaT2CY"
      },
      "source": [
        "From the names, it looks like there could be duplicate data.\n",
        "For e.g. `extraction_type,extraction_type_group,extraction_type_class` could all be referring to the same thing.\n",
        "Let's isolate some of these columns:"
      ]
    },
    {
      "cell_type": "code",
      "execution_count": 8,
      "metadata": {
        "colab": {
          "base_uri": "https://localhost:8080/",
          "height": 730
        },
        "id": "l5nFg-hGT2CY",
        "outputId": "d5ea52cd-ceb6-478e-9557-32a3c5d703e1",
        "scrolled": false
      },
      "outputs": [
        {
          "output_type": "execute_result",
          "data": {
            "text/plain": [
              "      scheme_management                  scheme_name extraction_type  \\\n",
              "0                   VWC                        Roman         gravity   \n",
              "1                 Other                          NaN         gravity   \n",
              "2                   VWC  Nyumba ya mungu pipe scheme         gravity   \n",
              "3                   VWC                          NaN     submersible   \n",
              "4                   NaN                          NaN         gravity   \n",
              "...                 ...                          ...             ...   \n",
              "59395       Water Board       Losaa Kia water supply         gravity   \n",
              "59396               VWC  Ikondo electrical water sch         gravity   \n",
              "59397               VWC                          NaN          swn 80   \n",
              "59398               VWC                          NaN     nira/tanira   \n",
              "59399               VWC                          NaN     nira/tanira   \n",
              "\n",
              "      extraction_type_group extraction_type_class   management  \\\n",
              "0                   gravity               gravity          vwc   \n",
              "1                   gravity               gravity          wug   \n",
              "2                   gravity               gravity          vwc   \n",
              "3               submersible           submersible          vwc   \n",
              "4                   gravity               gravity        other   \n",
              "...                     ...                   ...          ...   \n",
              "59395               gravity               gravity  water board   \n",
              "59396               gravity               gravity          vwc   \n",
              "59397                swn 80              handpump          vwc   \n",
              "59398           nira/tanira              handpump          vwc   \n",
              "59399           nira/tanira              handpump          vwc   \n",
              "\n",
              "      management_group                payment payment_type water_quality  \\\n",
              "0           user-group           pay annually     annually          soft   \n",
              "1           user-group              never pay    never pay          soft   \n",
              "2           user-group         pay per bucket   per bucket          soft   \n",
              "3           user-group              never pay    never pay          soft   \n",
              "4                other              never pay    never pay          soft   \n",
              "...                ...                    ...          ...           ...   \n",
              "59395       user-group         pay per bucket   per bucket          soft   \n",
              "59396       user-group           pay annually     annually          soft   \n",
              "59397       user-group            pay monthly      monthly      fluoride   \n",
              "59398       user-group              never pay    never pay          soft   \n",
              "59399       user-group  pay when scheme fails   on failure         salty   \n",
              "\n",
              "           quantity quantity_group quality_group                source  \\\n",
              "0            enough         enough          good                spring   \n",
              "1      insufficient   insufficient          good  rainwater harvesting   \n",
              "2            enough         enough          good                   dam   \n",
              "3               dry            dry          good           machine dbh   \n",
              "4          seasonal       seasonal          good  rainwater harvesting   \n",
              "...             ...            ...           ...                   ...   \n",
              "59395        enough         enough          good                spring   \n",
              "59396        enough         enough          good                 river   \n",
              "59397        enough         enough      fluoride           machine dbh   \n",
              "59398  insufficient   insufficient          good          shallow well   \n",
              "59399        enough         enough         salty          shallow well   \n",
              "\n",
              "                source_type source_class              waterpoint_type  \\\n",
              "0                    spring  groundwater           communal standpipe   \n",
              "1      rainwater harvesting      surface           communal standpipe   \n",
              "2                       dam      surface  communal standpipe multiple   \n",
              "3                  borehole  groundwater  communal standpipe multiple   \n",
              "4      rainwater harvesting      surface           communal standpipe   \n",
              "...                     ...          ...                          ...   \n",
              "59395                spring  groundwater           communal standpipe   \n",
              "59396            river/lake      surface           communal standpipe   \n",
              "59397              borehole  groundwater                    hand pump   \n",
              "59398          shallow well  groundwater                    hand pump   \n",
              "59399          shallow well  groundwater                    hand pump   \n",
              "\n",
              "      waterpoint_type_group  \n",
              "0        communal standpipe  \n",
              "1        communal standpipe  \n",
              "2        communal standpipe  \n",
              "3        communal standpipe  \n",
              "4        communal standpipe  \n",
              "...                     ...  \n",
              "59395    communal standpipe  \n",
              "59396    communal standpipe  \n",
              "59397             hand pump  \n",
              "59398             hand pump  \n",
              "59399             hand pump  \n",
              "\n",
              "[59400 rows x 18 columns]"
            ],
            "text/html": [
              "\n",
              "\n",
              "  <div id=\"df-c48ae9d3-91ab-4085-9a5d-be752bbec3bb\">\n",
              "    <div class=\"colab-df-container\">\n",
              "      <div>\n",
              "<style scoped>\n",
              "    .dataframe tbody tr th:only-of-type {\n",
              "        vertical-align: middle;\n",
              "    }\n",
              "\n",
              "    .dataframe tbody tr th {\n",
              "        vertical-align: top;\n",
              "    }\n",
              "\n",
              "    .dataframe thead th {\n",
              "        text-align: right;\n",
              "    }\n",
              "</style>\n",
              "<table border=\"1\" class=\"dataframe\">\n",
              "  <thead>\n",
              "    <tr style=\"text-align: right;\">\n",
              "      <th></th>\n",
              "      <th>scheme_management</th>\n",
              "      <th>scheme_name</th>\n",
              "      <th>extraction_type</th>\n",
              "      <th>extraction_type_group</th>\n",
              "      <th>extraction_type_class</th>\n",
              "      <th>management</th>\n",
              "      <th>management_group</th>\n",
              "      <th>payment</th>\n",
              "      <th>payment_type</th>\n",
              "      <th>water_quality</th>\n",
              "      <th>quantity</th>\n",
              "      <th>quantity_group</th>\n",
              "      <th>quality_group</th>\n",
              "      <th>source</th>\n",
              "      <th>source_type</th>\n",
              "      <th>source_class</th>\n",
              "      <th>waterpoint_type</th>\n",
              "      <th>waterpoint_type_group</th>\n",
              "    </tr>\n",
              "  </thead>\n",
              "  <tbody>\n",
              "    <tr>\n",
              "      <th>0</th>\n",
              "      <td>VWC</td>\n",
              "      <td>Roman</td>\n",
              "      <td>gravity</td>\n",
              "      <td>gravity</td>\n",
              "      <td>gravity</td>\n",
              "      <td>vwc</td>\n",
              "      <td>user-group</td>\n",
              "      <td>pay annually</td>\n",
              "      <td>annually</td>\n",
              "      <td>soft</td>\n",
              "      <td>enough</td>\n",
              "      <td>enough</td>\n",
              "      <td>good</td>\n",
              "      <td>spring</td>\n",
              "      <td>spring</td>\n",
              "      <td>groundwater</td>\n",
              "      <td>communal standpipe</td>\n",
              "      <td>communal standpipe</td>\n",
              "    </tr>\n",
              "    <tr>\n",
              "      <th>1</th>\n",
              "      <td>Other</td>\n",
              "      <td>NaN</td>\n",
              "      <td>gravity</td>\n",
              "      <td>gravity</td>\n",
              "      <td>gravity</td>\n",
              "      <td>wug</td>\n",
              "      <td>user-group</td>\n",
              "      <td>never pay</td>\n",
              "      <td>never pay</td>\n",
              "      <td>soft</td>\n",
              "      <td>insufficient</td>\n",
              "      <td>insufficient</td>\n",
              "      <td>good</td>\n",
              "      <td>rainwater harvesting</td>\n",
              "      <td>rainwater harvesting</td>\n",
              "      <td>surface</td>\n",
              "      <td>communal standpipe</td>\n",
              "      <td>communal standpipe</td>\n",
              "    </tr>\n",
              "    <tr>\n",
              "      <th>2</th>\n",
              "      <td>VWC</td>\n",
              "      <td>Nyumba ya mungu pipe scheme</td>\n",
              "      <td>gravity</td>\n",
              "      <td>gravity</td>\n",
              "      <td>gravity</td>\n",
              "      <td>vwc</td>\n",
              "      <td>user-group</td>\n",
              "      <td>pay per bucket</td>\n",
              "      <td>per bucket</td>\n",
              "      <td>soft</td>\n",
              "      <td>enough</td>\n",
              "      <td>enough</td>\n",
              "      <td>good</td>\n",
              "      <td>dam</td>\n",
              "      <td>dam</td>\n",
              "      <td>surface</td>\n",
              "      <td>communal standpipe multiple</td>\n",
              "      <td>communal standpipe</td>\n",
              "    </tr>\n",
              "    <tr>\n",
              "      <th>3</th>\n",
              "      <td>VWC</td>\n",
              "      <td>NaN</td>\n",
              "      <td>submersible</td>\n",
              "      <td>submersible</td>\n",
              "      <td>submersible</td>\n",
              "      <td>vwc</td>\n",
              "      <td>user-group</td>\n",
              "      <td>never pay</td>\n",
              "      <td>never pay</td>\n",
              "      <td>soft</td>\n",
              "      <td>dry</td>\n",
              "      <td>dry</td>\n",
              "      <td>good</td>\n",
              "      <td>machine dbh</td>\n",
              "      <td>borehole</td>\n",
              "      <td>groundwater</td>\n",
              "      <td>communal standpipe multiple</td>\n",
              "      <td>communal standpipe</td>\n",
              "    </tr>\n",
              "    <tr>\n",
              "      <th>4</th>\n",
              "      <td>NaN</td>\n",
              "      <td>NaN</td>\n",
              "      <td>gravity</td>\n",
              "      <td>gravity</td>\n",
              "      <td>gravity</td>\n",
              "      <td>other</td>\n",
              "      <td>other</td>\n",
              "      <td>never pay</td>\n",
              "      <td>never pay</td>\n",
              "      <td>soft</td>\n",
              "      <td>seasonal</td>\n",
              "      <td>seasonal</td>\n",
              "      <td>good</td>\n",
              "      <td>rainwater harvesting</td>\n",
              "      <td>rainwater harvesting</td>\n",
              "      <td>surface</td>\n",
              "      <td>communal standpipe</td>\n",
              "      <td>communal standpipe</td>\n",
              "    </tr>\n",
              "    <tr>\n",
              "      <th>...</th>\n",
              "      <td>...</td>\n",
              "      <td>...</td>\n",
              "      <td>...</td>\n",
              "      <td>...</td>\n",
              "      <td>...</td>\n",
              "      <td>...</td>\n",
              "      <td>...</td>\n",
              "      <td>...</td>\n",
              "      <td>...</td>\n",
              "      <td>...</td>\n",
              "      <td>...</td>\n",
              "      <td>...</td>\n",
              "      <td>...</td>\n",
              "      <td>...</td>\n",
              "      <td>...</td>\n",
              "      <td>...</td>\n",
              "      <td>...</td>\n",
              "      <td>...</td>\n",
              "    </tr>\n",
              "    <tr>\n",
              "      <th>59395</th>\n",
              "      <td>Water Board</td>\n",
              "      <td>Losaa Kia water supply</td>\n",
              "      <td>gravity</td>\n",
              "      <td>gravity</td>\n",
              "      <td>gravity</td>\n",
              "      <td>water board</td>\n",
              "      <td>user-group</td>\n",
              "      <td>pay per bucket</td>\n",
              "      <td>per bucket</td>\n",
              "      <td>soft</td>\n",
              "      <td>enough</td>\n",
              "      <td>enough</td>\n",
              "      <td>good</td>\n",
              "      <td>spring</td>\n",
              "      <td>spring</td>\n",
              "      <td>groundwater</td>\n",
              "      <td>communal standpipe</td>\n",
              "      <td>communal standpipe</td>\n",
              "    </tr>\n",
              "    <tr>\n",
              "      <th>59396</th>\n",
              "      <td>VWC</td>\n",
              "      <td>Ikondo electrical water sch</td>\n",
              "      <td>gravity</td>\n",
              "      <td>gravity</td>\n",
              "      <td>gravity</td>\n",
              "      <td>vwc</td>\n",
              "      <td>user-group</td>\n",
              "      <td>pay annually</td>\n",
              "      <td>annually</td>\n",
              "      <td>soft</td>\n",
              "      <td>enough</td>\n",
              "      <td>enough</td>\n",
              "      <td>good</td>\n",
              "      <td>river</td>\n",
              "      <td>river/lake</td>\n",
              "      <td>surface</td>\n",
              "      <td>communal standpipe</td>\n",
              "      <td>communal standpipe</td>\n",
              "    </tr>\n",
              "    <tr>\n",
              "      <th>59397</th>\n",
              "      <td>VWC</td>\n",
              "      <td>NaN</td>\n",
              "      <td>swn 80</td>\n",
              "      <td>swn 80</td>\n",
              "      <td>handpump</td>\n",
              "      <td>vwc</td>\n",
              "      <td>user-group</td>\n",
              "      <td>pay monthly</td>\n",
              "      <td>monthly</td>\n",
              "      <td>fluoride</td>\n",
              "      <td>enough</td>\n",
              "      <td>enough</td>\n",
              "      <td>fluoride</td>\n",
              "      <td>machine dbh</td>\n",
              "      <td>borehole</td>\n",
              "      <td>groundwater</td>\n",
              "      <td>hand pump</td>\n",
              "      <td>hand pump</td>\n",
              "    </tr>\n",
              "    <tr>\n",
              "      <th>59398</th>\n",
              "      <td>VWC</td>\n",
              "      <td>NaN</td>\n",
              "      <td>nira/tanira</td>\n",
              "      <td>nira/tanira</td>\n",
              "      <td>handpump</td>\n",
              "      <td>vwc</td>\n",
              "      <td>user-group</td>\n",
              "      <td>never pay</td>\n",
              "      <td>never pay</td>\n",
              "      <td>soft</td>\n",
              "      <td>insufficient</td>\n",
              "      <td>insufficient</td>\n",
              "      <td>good</td>\n",
              "      <td>shallow well</td>\n",
              "      <td>shallow well</td>\n",
              "      <td>groundwater</td>\n",
              "      <td>hand pump</td>\n",
              "      <td>hand pump</td>\n",
              "    </tr>\n",
              "    <tr>\n",
              "      <th>59399</th>\n",
              "      <td>VWC</td>\n",
              "      <td>NaN</td>\n",
              "      <td>nira/tanira</td>\n",
              "      <td>nira/tanira</td>\n",
              "      <td>handpump</td>\n",
              "      <td>vwc</td>\n",
              "      <td>user-group</td>\n",
              "      <td>pay when scheme fails</td>\n",
              "      <td>on failure</td>\n",
              "      <td>salty</td>\n",
              "      <td>enough</td>\n",
              "      <td>enough</td>\n",
              "      <td>salty</td>\n",
              "      <td>shallow well</td>\n",
              "      <td>shallow well</td>\n",
              "      <td>groundwater</td>\n",
              "      <td>hand pump</td>\n",
              "      <td>hand pump</td>\n",
              "    </tr>\n",
              "  </tbody>\n",
              "</table>\n",
              "<p>59400 rows × 18 columns</p>\n",
              "</div>\n",
              "      <button class=\"colab-df-convert\" onclick=\"convertToInteractive('df-c48ae9d3-91ab-4085-9a5d-be752bbec3bb')\"\n",
              "              title=\"Convert this dataframe to an interactive table.\"\n",
              "              style=\"display:none;\">\n",
              "\n",
              "  <svg xmlns=\"http://www.w3.org/2000/svg\" height=\"24px\"viewBox=\"0 0 24 24\"\n",
              "       width=\"24px\">\n",
              "    <path d=\"M0 0h24v24H0V0z\" fill=\"none\"/>\n",
              "    <path d=\"M18.56 5.44l.94 2.06.94-2.06 2.06-.94-2.06-.94-.94-2.06-.94 2.06-2.06.94zm-11 1L8.5 8.5l.94-2.06 2.06-.94-2.06-.94L8.5 2.5l-.94 2.06-2.06.94zm10 10l.94 2.06.94-2.06 2.06-.94-2.06-.94-.94-2.06-.94 2.06-2.06.94z\"/><path d=\"M17.41 7.96l-1.37-1.37c-.4-.4-.92-.59-1.43-.59-.52 0-1.04.2-1.43.59L10.3 9.45l-7.72 7.72c-.78.78-.78 2.05 0 2.83L4 21.41c.39.39.9.59 1.41.59.51 0 1.02-.2 1.41-.59l7.78-7.78 2.81-2.81c.8-.78.8-2.07 0-2.86zM5.41 20L4 18.59l7.72-7.72 1.47 1.35L5.41 20z\"/>\n",
              "  </svg>\n",
              "      </button>\n",
              "\n",
              "\n",
              "\n",
              "    <div id=\"df-91cba8f8-80c3-4a74-9700-92e204621830\">\n",
              "      <button class=\"colab-df-quickchart\" onclick=\"quickchart('df-91cba8f8-80c3-4a74-9700-92e204621830')\"\n",
              "              title=\"Suggest charts.\"\n",
              "              style=\"display:none;\">\n",
              "\n",
              "<svg xmlns=\"http://www.w3.org/2000/svg\" height=\"24px\"viewBox=\"0 0 24 24\"\n",
              "     width=\"24px\">\n",
              "    <g>\n",
              "        <path d=\"M19 3H5c-1.1 0-2 .9-2 2v14c0 1.1.9 2 2 2h14c1.1 0 2-.9 2-2V5c0-1.1-.9-2-2-2zM9 17H7v-7h2v7zm4 0h-2V7h2v10zm4 0h-2v-4h2v4z\"/>\n",
              "    </g>\n",
              "</svg>\n",
              "      </button>\n",
              "    </div>\n",
              "\n",
              "<style>\n",
              "  .colab-df-quickchart {\n",
              "    background-color: #E8F0FE;\n",
              "    border: none;\n",
              "    border-radius: 50%;\n",
              "    cursor: pointer;\n",
              "    display: none;\n",
              "    fill: #1967D2;\n",
              "    height: 32px;\n",
              "    padding: 0 0 0 0;\n",
              "    width: 32px;\n",
              "  }\n",
              "\n",
              "  .colab-df-quickchart:hover {\n",
              "    background-color: #E2EBFA;\n",
              "    box-shadow: 0px 1px 2px rgba(60, 64, 67, 0.3), 0px 1px 3px 1px rgba(60, 64, 67, 0.15);\n",
              "    fill: #174EA6;\n",
              "  }\n",
              "\n",
              "  [theme=dark] .colab-df-quickchart {\n",
              "    background-color: #3B4455;\n",
              "    fill: #D2E3FC;\n",
              "  }\n",
              "\n",
              "  [theme=dark] .colab-df-quickchart:hover {\n",
              "    background-color: #434B5C;\n",
              "    box-shadow: 0px 1px 3px 1px rgba(0, 0, 0, 0.15);\n",
              "    filter: drop-shadow(0px 1px 2px rgba(0, 0, 0, 0.3));\n",
              "    fill: #FFFFFF;\n",
              "  }\n",
              "</style>\n",
              "\n",
              "    <script>\n",
              "      async function quickchart(key) {\n",
              "        const containerElement = document.querySelector('#' + key);\n",
              "        const charts = await google.colab.kernel.invokeFunction(\n",
              "            'suggestCharts', [key], {});\n",
              "      }\n",
              "    </script>\n",
              "\n",
              "\n",
              "      <script>\n",
              "\n",
              "function displayQuickchartButton(domScope) {\n",
              "  let quickchartButtonEl =\n",
              "    domScope.querySelector('#df-91cba8f8-80c3-4a74-9700-92e204621830 button.colab-df-quickchart');\n",
              "  quickchartButtonEl.style.display =\n",
              "    google.colab.kernel.accessAllowed ? 'block' : 'none';\n",
              "}\n",
              "\n",
              "        displayQuickchartButton(document);\n",
              "      </script>\n",
              "      <style>\n",
              "    .colab-df-container {\n",
              "      display:flex;\n",
              "      flex-wrap:wrap;\n",
              "      gap: 12px;\n",
              "    }\n",
              "\n",
              "    .colab-df-convert {\n",
              "      background-color: #E8F0FE;\n",
              "      border: none;\n",
              "      border-radius: 50%;\n",
              "      cursor: pointer;\n",
              "      display: none;\n",
              "      fill: #1967D2;\n",
              "      height: 32px;\n",
              "      padding: 0 0 0 0;\n",
              "      width: 32px;\n",
              "    }\n",
              "\n",
              "    .colab-df-convert:hover {\n",
              "      background-color: #E2EBFA;\n",
              "      box-shadow: 0px 1px 2px rgba(60, 64, 67, 0.3), 0px 1px 3px 1px rgba(60, 64, 67, 0.15);\n",
              "      fill: #174EA6;\n",
              "    }\n",
              "\n",
              "    [theme=dark] .colab-df-convert {\n",
              "      background-color: #3B4455;\n",
              "      fill: #D2E3FC;\n",
              "    }\n",
              "\n",
              "    [theme=dark] .colab-df-convert:hover {\n",
              "      background-color: #434B5C;\n",
              "      box-shadow: 0px 1px 3px 1px rgba(0, 0, 0, 0.15);\n",
              "      filter: drop-shadow(0px 1px 2px rgba(0, 0, 0, 0.3));\n",
              "      fill: #FFFFFF;\n",
              "    }\n",
              "  </style>\n",
              "\n",
              "      <script>\n",
              "        const buttonEl =\n",
              "          document.querySelector('#df-c48ae9d3-91ab-4085-9a5d-be752bbec3bb button.colab-df-convert');\n",
              "        buttonEl.style.display =\n",
              "          google.colab.kernel.accessAllowed ? 'block' : 'none';\n",
              "\n",
              "        async function convertToInteractive(key) {\n",
              "          const element = document.querySelector('#df-c48ae9d3-91ab-4085-9a5d-be752bbec3bb');\n",
              "          const dataTable =\n",
              "            await google.colab.kernel.invokeFunction('convertToInteractive',\n",
              "                                                     [key], {});\n",
              "          if (!dataTable) return;\n",
              "\n",
              "          const docLinkHtml = 'Like what you see? Visit the ' +\n",
              "            '<a target=\"_blank\" href=https://colab.research.google.com/notebooks/data_table.ipynb>data table notebook</a>'\n",
              "            + ' to learn more about interactive tables.';\n",
              "          element.innerHTML = '';\n",
              "          dataTable['output_type'] = 'display_data';\n",
              "          await google.colab.output.renderOutput(dataTable, element);\n",
              "          const docLink = document.createElement('div');\n",
              "          docLink.innerHTML = docLinkHtml;\n",
              "          element.appendChild(docLink);\n",
              "        }\n",
              "      </script>\n",
              "    </div>\n",
              "  </div>\n"
            ]
          },
          "metadata": {},
          "execution_count": 8
        }
      ],
      "source": [
        "df.loc[:,['scheme_management','scheme_name','extraction_type','extraction_type_group','extraction_type_class',\n",
        "          'management','management_group','payment','payment_type','water_quality','quantity','quantity_group',\n",
        "          'quality_group','source','source_type','source_class','waterpoint_type','waterpoint_type_group']]"
      ]
    },
    {
      "cell_type": "markdown",
      "metadata": {
        "id": "aUaYkoX1T2CY"
      },
      "source": [
        "We can see that some of the columns have duplicate data and are redundant. We can drop these columns from the dataset."
      ]
    },
    {
      "cell_type": "code",
      "execution_count": 9,
      "metadata": {
        "id": "tGvLvmMpT2CY"
      },
      "outputs": [],
      "source": [
        "#dropping redundant columns\n",
        "df.drop(['extraction_type_group','extraction_type_class','payment_type','source_type',\n",
        "         'waterpoint_type_group','quantity_group','scheme_management'],axis=1,inplace=True)\n"
      ]
    },
    {
      "cell_type": "markdown",
      "metadata": {
        "id": "DT9c2MvDjjuk"
      },
      "source": [
        "We can also get rid of some other superflous data like the names as they add no value to the model.\n"
      ]
    },
    {
      "cell_type": "code",
      "execution_count": 10,
      "metadata": {
        "id": "AcKegyGHlVNJ"
      },
      "outputs": [],
      "source": [
        "#dropping names\n",
        "df.drop(['wpt_name','scheme_name'],axis=1,inplace=True)"
      ]
    },
    {
      "cell_type": "markdown",
      "metadata": {
        "id": "4_pLzolE1PWL"
      },
      "source": [
        "Lastly, we check for missing data:"
      ]
    },
    {
      "cell_type": "code",
      "execution_count": 11,
      "metadata": {
        "colab": {
          "base_uri": "https://localhost:8080/"
        },
        "id": "ErmnZWcHyM1S",
        "outputId": "1f17ee57-19eb-4870-d389-fd751630ea53",
        "scrolled": true
      },
      "outputs": [
        {
          "output_type": "execute_result",
          "data": {
            "text/plain": [
              "funder              3635\n",
              "installer           3655\n",
              "basin                  0\n",
              "subvillage           371\n",
              "region                 0\n",
              "lga                    0\n",
              "ward                   0\n",
              "public_meeting      3334\n",
              "recorded_by            0\n",
              "permit              3056\n",
              "extraction_type        0\n",
              "management             0\n",
              "management_group       0\n",
              "payment                0\n",
              "water_quality          0\n",
              "quality_group          0\n",
              "quantity               0\n",
              "source                 0\n",
              "source_class           0\n",
              "waterpoint_type        0\n",
              "status_group           0\n",
              "year                   0\n",
              "dtype: int64"
            ]
          },
          "metadata": {},
          "execution_count": 11
        }
      ],
      "source": [
        "#getting the list of categorical data since some columns have been removed\n",
        "cat_cols = [col for col in df.columns if df[col].dtypes == 'O']\n",
        "df[cat_cols].isna().sum()"
      ]
    },
    {
      "cell_type": "markdown",
      "metadata": {
        "id": "M7O4zvbn9O62"
      },
      "source": [
        "Since we're dealing with categorical data, we will classify the missing data as 'Missing':"
      ]
    },
    {
      "cell_type": "code",
      "execution_count": 12,
      "metadata": {
        "id": "IeEl-yot0HjN"
      },
      "outputs": [],
      "source": [
        "#filling the missing data\n",
        "df['funder'].fillna('Missing',inplace=True)\n",
        "df['installer'].fillna('Missing',inplace=True)\n",
        "df['subvillage'].fillna('Missing',inplace=True)\n",
        "df['permit'].fillna('Missing',inplace=True)\n",
        "df['public_meeting'].fillna('Missing',inplace=True)"
      ]
    },
    {
      "cell_type": "markdown",
      "metadata": {
        "id": "zoBlOYqHT2CY"
      },
      "source": [
        "### Numerical data"
      ]
    },
    {
      "cell_type": "code",
      "execution_count": 13,
      "metadata": {
        "colab": {
          "base_uri": "https://localhost:8080/",
          "height": 487
        },
        "id": "kOJh7VhkT2CY",
        "outputId": "caebcce3-a246-4ccf-aa16-7a204563190f",
        "scrolled": false
      },
      "outputs": [
        {
          "output_type": "execute_result",
          "data": {
            "text/plain": [
              "          id  amount_tsh date_recorded  gps_height  longitude   latitude  \\\n",
              "0      69572      6000.0    2011-03-14        1390  34.938093  -9.856322   \n",
              "1       8776         0.0    2013-03-06        1399  34.698766  -2.147466   \n",
              "2      34310        25.0    2013-02-25         686  37.460664  -3.821329   \n",
              "3      67743         0.0    2013-01-28         263  38.486161 -11.155298   \n",
              "4      19728         0.0    2011-07-13           0  31.130847  -1.825359   \n",
              "...      ...         ...           ...         ...        ...        ...   \n",
              "59395  60739        10.0    2013-05-03        1210  37.169807  -3.253847   \n",
              "59396  27263      4700.0    2011-05-07        1212  35.249991  -9.070629   \n",
              "59397  37057         0.0    2011-04-11           0  34.017087  -8.750434   \n",
              "59398  31282         0.0    2011-03-08           0  35.861315  -6.378573   \n",
              "59399  26348         0.0    2011-03-23         191  38.104048  -6.747464   \n",
              "\n",
              "       num_private  region_code  district_code  population  construction_year  \n",
              "0                0           11              5         109               1999  \n",
              "1                0           20              2         280               2010  \n",
              "2                0           21              4         250               2009  \n",
              "3                0           90             63          58               1986  \n",
              "4                0           18              1           0                  0  \n",
              "...            ...          ...            ...         ...                ...  \n",
              "59395            0            3              5         125               1999  \n",
              "59396            0           11              4          56               1996  \n",
              "59397            0           12              7           0                  0  \n",
              "59398            0            1              4           0                  0  \n",
              "59399            0            5              2         150               2002  \n",
              "\n",
              "[59400 rows x 11 columns]"
            ],
            "text/html": [
              "\n",
              "\n",
              "  <div id=\"df-e5eb4734-a47a-44b2-9785-185478f7d1de\">\n",
              "    <div class=\"colab-df-container\">\n",
              "      <div>\n",
              "<style scoped>\n",
              "    .dataframe tbody tr th:only-of-type {\n",
              "        vertical-align: middle;\n",
              "    }\n",
              "\n",
              "    .dataframe tbody tr th {\n",
              "        vertical-align: top;\n",
              "    }\n",
              "\n",
              "    .dataframe thead th {\n",
              "        text-align: right;\n",
              "    }\n",
              "</style>\n",
              "<table border=\"1\" class=\"dataframe\">\n",
              "  <thead>\n",
              "    <tr style=\"text-align: right;\">\n",
              "      <th></th>\n",
              "      <th>id</th>\n",
              "      <th>amount_tsh</th>\n",
              "      <th>date_recorded</th>\n",
              "      <th>gps_height</th>\n",
              "      <th>longitude</th>\n",
              "      <th>latitude</th>\n",
              "      <th>num_private</th>\n",
              "      <th>region_code</th>\n",
              "      <th>district_code</th>\n",
              "      <th>population</th>\n",
              "      <th>construction_year</th>\n",
              "    </tr>\n",
              "  </thead>\n",
              "  <tbody>\n",
              "    <tr>\n",
              "      <th>0</th>\n",
              "      <td>69572</td>\n",
              "      <td>6000.0</td>\n",
              "      <td>2011-03-14</td>\n",
              "      <td>1390</td>\n",
              "      <td>34.938093</td>\n",
              "      <td>-9.856322</td>\n",
              "      <td>0</td>\n",
              "      <td>11</td>\n",
              "      <td>5</td>\n",
              "      <td>109</td>\n",
              "      <td>1999</td>\n",
              "    </tr>\n",
              "    <tr>\n",
              "      <th>1</th>\n",
              "      <td>8776</td>\n",
              "      <td>0.0</td>\n",
              "      <td>2013-03-06</td>\n",
              "      <td>1399</td>\n",
              "      <td>34.698766</td>\n",
              "      <td>-2.147466</td>\n",
              "      <td>0</td>\n",
              "      <td>20</td>\n",
              "      <td>2</td>\n",
              "      <td>280</td>\n",
              "      <td>2010</td>\n",
              "    </tr>\n",
              "    <tr>\n",
              "      <th>2</th>\n",
              "      <td>34310</td>\n",
              "      <td>25.0</td>\n",
              "      <td>2013-02-25</td>\n",
              "      <td>686</td>\n",
              "      <td>37.460664</td>\n",
              "      <td>-3.821329</td>\n",
              "      <td>0</td>\n",
              "      <td>21</td>\n",
              "      <td>4</td>\n",
              "      <td>250</td>\n",
              "      <td>2009</td>\n",
              "    </tr>\n",
              "    <tr>\n",
              "      <th>3</th>\n",
              "      <td>67743</td>\n",
              "      <td>0.0</td>\n",
              "      <td>2013-01-28</td>\n",
              "      <td>263</td>\n",
              "      <td>38.486161</td>\n",
              "      <td>-11.155298</td>\n",
              "      <td>0</td>\n",
              "      <td>90</td>\n",
              "      <td>63</td>\n",
              "      <td>58</td>\n",
              "      <td>1986</td>\n",
              "    </tr>\n",
              "    <tr>\n",
              "      <th>4</th>\n",
              "      <td>19728</td>\n",
              "      <td>0.0</td>\n",
              "      <td>2011-07-13</td>\n",
              "      <td>0</td>\n",
              "      <td>31.130847</td>\n",
              "      <td>-1.825359</td>\n",
              "      <td>0</td>\n",
              "      <td>18</td>\n",
              "      <td>1</td>\n",
              "      <td>0</td>\n",
              "      <td>0</td>\n",
              "    </tr>\n",
              "    <tr>\n",
              "      <th>...</th>\n",
              "      <td>...</td>\n",
              "      <td>...</td>\n",
              "      <td>...</td>\n",
              "      <td>...</td>\n",
              "      <td>...</td>\n",
              "      <td>...</td>\n",
              "      <td>...</td>\n",
              "      <td>...</td>\n",
              "      <td>...</td>\n",
              "      <td>...</td>\n",
              "      <td>...</td>\n",
              "    </tr>\n",
              "    <tr>\n",
              "      <th>59395</th>\n",
              "      <td>60739</td>\n",
              "      <td>10.0</td>\n",
              "      <td>2013-05-03</td>\n",
              "      <td>1210</td>\n",
              "      <td>37.169807</td>\n",
              "      <td>-3.253847</td>\n",
              "      <td>0</td>\n",
              "      <td>3</td>\n",
              "      <td>5</td>\n",
              "      <td>125</td>\n",
              "      <td>1999</td>\n",
              "    </tr>\n",
              "    <tr>\n",
              "      <th>59396</th>\n",
              "      <td>27263</td>\n",
              "      <td>4700.0</td>\n",
              "      <td>2011-05-07</td>\n",
              "      <td>1212</td>\n",
              "      <td>35.249991</td>\n",
              "      <td>-9.070629</td>\n",
              "      <td>0</td>\n",
              "      <td>11</td>\n",
              "      <td>4</td>\n",
              "      <td>56</td>\n",
              "      <td>1996</td>\n",
              "    </tr>\n",
              "    <tr>\n",
              "      <th>59397</th>\n",
              "      <td>37057</td>\n",
              "      <td>0.0</td>\n",
              "      <td>2011-04-11</td>\n",
              "      <td>0</td>\n",
              "      <td>34.017087</td>\n",
              "      <td>-8.750434</td>\n",
              "      <td>0</td>\n",
              "      <td>12</td>\n",
              "      <td>7</td>\n",
              "      <td>0</td>\n",
              "      <td>0</td>\n",
              "    </tr>\n",
              "    <tr>\n",
              "      <th>59398</th>\n",
              "      <td>31282</td>\n",
              "      <td>0.0</td>\n",
              "      <td>2011-03-08</td>\n",
              "      <td>0</td>\n",
              "      <td>35.861315</td>\n",
              "      <td>-6.378573</td>\n",
              "      <td>0</td>\n",
              "      <td>1</td>\n",
              "      <td>4</td>\n",
              "      <td>0</td>\n",
              "      <td>0</td>\n",
              "    </tr>\n",
              "    <tr>\n",
              "      <th>59399</th>\n",
              "      <td>26348</td>\n",
              "      <td>0.0</td>\n",
              "      <td>2011-03-23</td>\n",
              "      <td>191</td>\n",
              "      <td>38.104048</td>\n",
              "      <td>-6.747464</td>\n",
              "      <td>0</td>\n",
              "      <td>5</td>\n",
              "      <td>2</td>\n",
              "      <td>150</td>\n",
              "      <td>2002</td>\n",
              "    </tr>\n",
              "  </tbody>\n",
              "</table>\n",
              "<p>59400 rows × 11 columns</p>\n",
              "</div>\n",
              "      <button class=\"colab-df-convert\" onclick=\"convertToInteractive('df-e5eb4734-a47a-44b2-9785-185478f7d1de')\"\n",
              "              title=\"Convert this dataframe to an interactive table.\"\n",
              "              style=\"display:none;\">\n",
              "\n",
              "  <svg xmlns=\"http://www.w3.org/2000/svg\" height=\"24px\"viewBox=\"0 0 24 24\"\n",
              "       width=\"24px\">\n",
              "    <path d=\"M0 0h24v24H0V0z\" fill=\"none\"/>\n",
              "    <path d=\"M18.56 5.44l.94 2.06.94-2.06 2.06-.94-2.06-.94-.94-2.06-.94 2.06-2.06.94zm-11 1L8.5 8.5l.94-2.06 2.06-.94-2.06-.94L8.5 2.5l-.94 2.06-2.06.94zm10 10l.94 2.06.94-2.06 2.06-.94-2.06-.94-.94-2.06-.94 2.06-2.06.94z\"/><path d=\"M17.41 7.96l-1.37-1.37c-.4-.4-.92-.59-1.43-.59-.52 0-1.04.2-1.43.59L10.3 9.45l-7.72 7.72c-.78.78-.78 2.05 0 2.83L4 21.41c.39.39.9.59 1.41.59.51 0 1.02-.2 1.41-.59l7.78-7.78 2.81-2.81c.8-.78.8-2.07 0-2.86zM5.41 20L4 18.59l7.72-7.72 1.47 1.35L5.41 20z\"/>\n",
              "  </svg>\n",
              "      </button>\n",
              "\n",
              "\n",
              "\n",
              "    <div id=\"df-f3af4feb-f1b9-4613-883f-a523d69446fa\">\n",
              "      <button class=\"colab-df-quickchart\" onclick=\"quickchart('df-f3af4feb-f1b9-4613-883f-a523d69446fa')\"\n",
              "              title=\"Suggest charts.\"\n",
              "              style=\"display:none;\">\n",
              "\n",
              "<svg xmlns=\"http://www.w3.org/2000/svg\" height=\"24px\"viewBox=\"0 0 24 24\"\n",
              "     width=\"24px\">\n",
              "    <g>\n",
              "        <path d=\"M19 3H5c-1.1 0-2 .9-2 2v14c0 1.1.9 2 2 2h14c1.1 0 2-.9 2-2V5c0-1.1-.9-2-2-2zM9 17H7v-7h2v7zm4 0h-2V7h2v10zm4 0h-2v-4h2v4z\"/>\n",
              "    </g>\n",
              "</svg>\n",
              "      </button>\n",
              "    </div>\n",
              "\n",
              "<style>\n",
              "  .colab-df-quickchart {\n",
              "    background-color: #E8F0FE;\n",
              "    border: none;\n",
              "    border-radius: 50%;\n",
              "    cursor: pointer;\n",
              "    display: none;\n",
              "    fill: #1967D2;\n",
              "    height: 32px;\n",
              "    padding: 0 0 0 0;\n",
              "    width: 32px;\n",
              "  }\n",
              "\n",
              "  .colab-df-quickchart:hover {\n",
              "    background-color: #E2EBFA;\n",
              "    box-shadow: 0px 1px 2px rgba(60, 64, 67, 0.3), 0px 1px 3px 1px rgba(60, 64, 67, 0.15);\n",
              "    fill: #174EA6;\n",
              "  }\n",
              "\n",
              "  [theme=dark] .colab-df-quickchart {\n",
              "    background-color: #3B4455;\n",
              "    fill: #D2E3FC;\n",
              "  }\n",
              "\n",
              "  [theme=dark] .colab-df-quickchart:hover {\n",
              "    background-color: #434B5C;\n",
              "    box-shadow: 0px 1px 3px 1px rgba(0, 0, 0, 0.15);\n",
              "    filter: drop-shadow(0px 1px 2px rgba(0, 0, 0, 0.3));\n",
              "    fill: #FFFFFF;\n",
              "  }\n",
              "</style>\n",
              "\n",
              "    <script>\n",
              "      async function quickchart(key) {\n",
              "        const containerElement = document.querySelector('#' + key);\n",
              "        const charts = await google.colab.kernel.invokeFunction(\n",
              "            'suggestCharts', [key], {});\n",
              "      }\n",
              "    </script>\n",
              "\n",
              "\n",
              "      <script>\n",
              "\n",
              "function displayQuickchartButton(domScope) {\n",
              "  let quickchartButtonEl =\n",
              "    domScope.querySelector('#df-f3af4feb-f1b9-4613-883f-a523d69446fa button.colab-df-quickchart');\n",
              "  quickchartButtonEl.style.display =\n",
              "    google.colab.kernel.accessAllowed ? 'block' : 'none';\n",
              "}\n",
              "\n",
              "        displayQuickchartButton(document);\n",
              "      </script>\n",
              "      <style>\n",
              "    .colab-df-container {\n",
              "      display:flex;\n",
              "      flex-wrap:wrap;\n",
              "      gap: 12px;\n",
              "    }\n",
              "\n",
              "    .colab-df-convert {\n",
              "      background-color: #E8F0FE;\n",
              "      border: none;\n",
              "      border-radius: 50%;\n",
              "      cursor: pointer;\n",
              "      display: none;\n",
              "      fill: #1967D2;\n",
              "      height: 32px;\n",
              "      padding: 0 0 0 0;\n",
              "      width: 32px;\n",
              "    }\n",
              "\n",
              "    .colab-df-convert:hover {\n",
              "      background-color: #E2EBFA;\n",
              "      box-shadow: 0px 1px 2px rgba(60, 64, 67, 0.3), 0px 1px 3px 1px rgba(60, 64, 67, 0.15);\n",
              "      fill: #174EA6;\n",
              "    }\n",
              "\n",
              "    [theme=dark] .colab-df-convert {\n",
              "      background-color: #3B4455;\n",
              "      fill: #D2E3FC;\n",
              "    }\n",
              "\n",
              "    [theme=dark] .colab-df-convert:hover {\n",
              "      background-color: #434B5C;\n",
              "      box-shadow: 0px 1px 3px 1px rgba(0, 0, 0, 0.15);\n",
              "      filter: drop-shadow(0px 1px 2px rgba(0, 0, 0, 0.3));\n",
              "      fill: #FFFFFF;\n",
              "    }\n",
              "  </style>\n",
              "\n",
              "      <script>\n",
              "        const buttonEl =\n",
              "          document.querySelector('#df-e5eb4734-a47a-44b2-9785-185478f7d1de button.colab-df-convert');\n",
              "        buttonEl.style.display =\n",
              "          google.colab.kernel.accessAllowed ? 'block' : 'none';\n",
              "\n",
              "        async function convertToInteractive(key) {\n",
              "          const element = document.querySelector('#df-e5eb4734-a47a-44b2-9785-185478f7d1de');\n",
              "          const dataTable =\n",
              "            await google.colab.kernel.invokeFunction('convertToInteractive',\n",
              "                                                     [key], {});\n",
              "          if (!dataTable) return;\n",
              "\n",
              "          const docLinkHtml = 'Like what you see? Visit the ' +\n",
              "            '<a target=\"_blank\" href=https://colab.research.google.com/notebooks/data_table.ipynb>data table notebook</a>'\n",
              "            + ' to learn more about interactive tables.';\n",
              "          element.innerHTML = '';\n",
              "          dataTable['output_type'] = 'display_data';\n",
              "          await google.colab.output.renderOutput(dataTable, element);\n",
              "          const docLink = document.createElement('div');\n",
              "          docLink.innerHTML = docLinkHtml;\n",
              "          element.appendChild(docLink);\n",
              "        }\n",
              "      </script>\n",
              "    </div>\n",
              "  </div>\n"
            ]
          },
          "metadata": {},
          "execution_count": 13
        }
      ],
      "source": [
        "#getting the list of numerical data\n",
        "num_cols = [col for col in df.columns if df[col].dtypes != 'O']\n",
        "df[num_cols]"
      ]
    },
    {
      "cell_type": "markdown",
      "metadata": {
        "id": "aNreklCC9O66"
      },
      "source": [
        "Let's check for missing data:"
      ]
    },
    {
      "cell_type": "code",
      "execution_count": 14,
      "metadata": {
        "colab": {
          "base_uri": "https://localhost:8080/"
        },
        "id": "Ba560dus9O66",
        "outputId": "013dd93f-67c1-48dd-b241-00305bb063d7",
        "scrolled": false
      },
      "outputs": [
        {
          "output_type": "execute_result",
          "data": {
            "text/plain": [
              "id                   0\n",
              "amount_tsh           0\n",
              "date_recorded        0\n",
              "gps_height           0\n",
              "longitude            0\n",
              "latitude             0\n",
              "num_private          0\n",
              "region_code          0\n",
              "district_code        0\n",
              "population           0\n",
              "construction_year    0\n",
              "dtype: int64"
            ]
          },
          "metadata": {},
          "execution_count": 14
        }
      ],
      "source": [
        "df[num_cols].isna().sum()"
      ]
    },
    {
      "cell_type": "markdown",
      "metadata": {
        "id": "tgJSBQ4H9O66"
      },
      "source": [
        "Since there is no missing data, we can move on to next steps."
      ]
    },
    {
      "cell_type": "markdown",
      "metadata": {
        "id": "gdmX2NvoAd_h"
      },
      "source": [
        "### Non-functional pumps deep-dive:"
      ]
    },
    {
      "cell_type": "markdown",
      "metadata": {
        "id": "Viy9GI_PAwg6"
      },
      "source": [
        "Before we get into modelling, we can study the non-functional pumps for any patterns or outstanding factors that we can focus on and potentially come up quick and easy fixes."
      ]
    },
    {
      "cell_type": "markdown",
      "metadata": {
        "id": "WrTCsDy8BE5L"
      },
      "source": [
        "We can write a simple function to make things efficient:"
      ]
    },
    {
      "cell_type": "code",
      "execution_count": 15,
      "metadata": {
        "id": "b_tX0K3D2Hdh"
      },
      "outputs": [],
      "source": [
        "#seperating the non-functional pumps alone\n",
        "non_func = df[df['status_group'] == 'non functional']\n",
        "\n",
        "def non_functional(column_name):\n",
        "  x = non_func.groupby(non_func[column_name]).count()\n",
        "\n",
        "  df = pd.DataFrame(x['id'])\n",
        "\n",
        "  df.sort_values('id',ascending=False,inplace=True)\n",
        "\n",
        "  fig,ax = plt.subplots(figsize=(8,5))\n",
        "  ax.bar(x=df.index[0:20], height = df['id'][0:20])\n",
        "  ax.set_xticklabels(labels=df.index,rotation=90)\n",
        "  ax.set_title(f'Non functional pumps by {column_name}')\n",
        "\n"
      ]
    },
    {
      "cell_type": "markdown",
      "metadata": {
        "id": "6huqhMPaN1oy"
      },
      "source": [
        "## Non-functional pumps by subvillage\n",
        "We can plot non-functional pumps by region to see so we can focus our attention on the areas most affected right away:"
      ]
    },
    {
      "cell_type": "code",
      "execution_count": 16,
      "metadata": {
        "colab": {
          "base_uri": "https://localhost:8080/",
          "height": 540
        },
        "id": "RmovpcAu2FS-",
        "outputId": "c5ba76f6-9e4b-418b-dd6c-78b728fa10de"
      },
      "outputs": [
        {
          "output_type": "display_data",
          "data": {
            "text/plain": [
              "<Figure size 800x500 with 1 Axes>"
            ],
            "image/png": "[encoded data removed]"
          },
          "metadata": {}
        }
      ],
      "source": [
        "non_functional('subvillage')"
      ]
    },
    {
      "cell_type": "markdown",
      "metadata": {
        "id": "q40F58CEU3_W"
      },
      "source": [
        "#### Non-fuctional pumps by Installer\n",
        "From the data, there are 1201 companies that have installed the pumps.Are there certain installers who have more mal fucntioning pumps than others? Visualizing all 1201 companies is difficult given the size, but we can look at the top 20 companies with the most failures:"
      ]
    },
    {
      "cell_type": "code",
      "execution_count": 17,
      "metadata": {
        "colab": {
          "base_uri": "https://localhost:8080/",
          "height": 593
        },
        "id": "dtn34IUNBaUA",
        "outputId": "94cd6b32-5858-4ba3-e6e6-74990cc16029"
      },
      "outputs": [
        {
          "output_type": "display_data",
          "data": {
            "text/plain": [
              "<Figure size 800x500 with 1 Axes>"
            ],
            "image/png": "[encoded data removed]"
          },
          "metadata": {}
        }
      ],
      "source": [
        "non_functional('installer')"
      ]
    },
    {
      "cell_type": "markdown",
      "metadata": {
        "id": "KrxK-6ROVQmh"
      },
      "source": [
        "It is quite clear to see that pumps installed by DWE far outnumber the rest of the companies by factor of almost 7.\n",
        "Another question that can be asked is why one single company was given the responsibility with installing so many pumps."
      ]
    },
    {
      "cell_type": "markdown",
      "metadata": {
        "id": "v5t_ZqYYYg1V"
      },
      "source": [
        "#### Non functional pumps by Management\n",
        "Like the installers, we can also check to see if certain companies tasked with managing the pumps perform worse compared to the others:"
      ]
    },
    {
      "cell_type": "code",
      "execution_count": 18,
      "metadata": {
        "colab": {
          "base_uri": "https://localhost:8080/",
          "height": 567
        },
        "id": "eR6VK53aB3XT",
        "outputId": "edfd10cf-9c60-4d55-8e2e-2b11869759e7"
      },
      "outputs": [
        {
          "output_type": "display_data",
          "data": {
            "text/plain": [
              "<Figure size 800x500 with 1 Axes>"
            ],
            "image/png": "[encoded data removed]"
          },
          "metadata": {}
        }
      ],
      "source": [
        "non_functional('management')"
      ]
    },
    {
      "cell_type": "markdown",
      "metadata": {
        "id": "moEKnHf5Zx8v"
      },
      "source": [
        "Again, like with the installer data, we can see one single company being repsonsible for most of the failures."
      ]
    },
    {
      "cell_type": "markdown",
      "metadata": {
        "id": "Afeo8QVZi0q_"
      },
      "source": [
        "#### Non-functional pumps by Source\n",
        "Pumps vary by applications. Different water sources could have different demands and may also require different pumps. Do some water sources have more pump breakdowns than others? Do they need a different pump or pumping system?"
      ]
    },
    {
      "cell_type": "code",
      "execution_count": 19,
      "metadata": {
        "colab": {
          "base_uri": "https://localhost:8080/",
          "height": 599
        },
        "id": "vDE14tVYB-7c",
        "outputId": "fe155d02-bf3e-493b-ecb4-ec9ee9e6eed1"
      },
      "outputs": [
        {
          "output_type": "display_data",
          "data": {
            "text/plain": [
              "<Figure size 800x500 with 1 Axes>"
            ],
            "image/png": "[encoded data removed]"
          },
          "metadata": {}
        }
      ],
      "source": [
        "non_functional('source')"
      ]
    },
    {
      "cell_type": "markdown",
      "metadata": {
        "id": "-WrshlCPDUZb"
      },
      "source": [
        "Surprisingly, it looks like shallow wells cause the most pump breakdowns. More data will be required to to ascertain the reasons why."
      ]
    },
    {
      "cell_type": "markdown",
      "metadata": {
        "id": "3sc9qR8W9O67"
      },
      "source": [
        "#### Non-functional pumps by static head"
      ]
    },
    {
      "cell_type": "markdown",
      "metadata": {
        "id": "05o0v4C-9O67"
      },
      "source": [
        "The `amount_tsh` could provide an insight into failures based on pump capacities. What are the head ratings of the pumps associated with the most failures?"
      ]
    },
    {
      "cell_type": "code",
      "execution_count": 20,
      "metadata": {
        "colab": {
          "base_uri": "https://localhost:8080/",
          "height": 452
        },
        "id": "XevvvwjN9O68",
        "outputId": "8f139041-6b8f-4dfd-c77e-51f132471049"
      },
      "outputs": [
        {
          "output_type": "display_data",
          "data": {
            "text/plain": [
              "<Figure size 640x480 with 1 Axes>"
            ],
            "image/png": "[encoded data removed]"
          },
          "metadata": {}
        }
      ],
      "source": [
        "df['amount_tsh'].plot(kind='hist', bins = 10, title = 'Failure by pump head');"
      ]
    },
    {
      "cell_type": "markdown",
      "metadata": {
        "id": "RxDZqVHE9O68"
      },
      "source": [
        "Looks like all the data falls only into 1 bin. We can check the value counts to get an idea of what the data looks like:"
      ]
    },
    {
      "cell_type": "code",
      "execution_count": 21,
      "metadata": {
        "colab": {
          "base_uri": "https://localhost:8080/"
        },
        "id": "rFGC2mm39O68",
        "outputId": "badb320e-c11a-403b-dc4b-dfa165aad9cb",
        "scrolled": false
      },
      "outputs": [
        {
          "output_type": "execute_result",
          "data": {
            "text/plain": [
              "0.0         41639\n",
              "500.0        3102\n",
              "50.0         2472\n",
              "1000.0       1488\n",
              "20.0         1463\n",
              "            ...  \n",
              "6300.0          1\n",
              "120000.0        1\n",
              "138000.0        1\n",
              "350000.0        1\n",
              "59.0            1\n",
              "Name: amount_tsh, Length: 98, dtype: int64"
            ]
          },
          "metadata": {},
          "execution_count": 21
        }
      ],
      "source": [
        "df['amount_tsh'].value_counts()"
      ]
    },
    {
      "cell_type": "markdown",
      "metadata": {
        "id": "AyNjUAW29O68"
      },
      "source": [
        "Look like most of the data is 0.0. This could have been a fill in for missing data as there can be no pump with a head of 0.0!"
      ]
    },
    {
      "cell_type": "markdown",
      "metadata": {
        "id": "0IEaJfgR9O68"
      },
      "source": [
        "#### Non-functional pumps by altitude"
      ]
    },
    {
      "cell_type": "markdown",
      "metadata": {
        "id": "9OBH2JKM9O68"
      },
      "source": [
        "Let's see if we can get some data regarding failures by altitude of the well:"
      ]
    },
    {
      "cell_type": "code",
      "execution_count": 22,
      "metadata": {
        "colab": {
          "base_uri": "https://localhost:8080/",
          "height": 452
        },
        "id": "hD1-zwPv9O68",
        "outputId": "c1817f55-2beb-4d4d-9a1f-acf7e289c61f",
        "scrolled": false
      },
      "outputs": [
        {
          "output_type": "display_data",
          "data": {
            "text/plain": [
              "<Figure size 640x480 with 1 Axes>"
            ],
            "image/png": "[encoded data removed]"
          },
          "metadata": {}
        }
      ],
      "source": [
        "df['gps_height'].plot(kind='hist',title = 'Pump failures by well height');"
      ]
    },
    {
      "cell_type": "markdown",
      "metadata": {
        "id": "1ntPhvjT9O68"
      },
      "source": [
        "Again, like with the head data, most of the failures are fall into 1 bin. This could either mean that the pumps installed at ground level are failing the most or that he missing data is filled in with a placeholder."
      ]
    },
    {
      "cell_type": "markdown",
      "metadata": {
        "id": "W3USjinh9O68"
      },
      "source": [
        "We can continue to deep-dive and look for more patterns and relationships, but since the intent is to build a model to predict pump status, let's move on."
      ]
    },
    {
      "cell_type": "markdown",
      "metadata": {
        "id": "P3YTLTZhwxcS"
      },
      "source": [
        "## Preprocessing"
      ]
    },
    {
      "cell_type": "markdown",
      "metadata": {
        "id": "-NGX2nsUYOKi"
      },
      "source": [
        "Since there is a lot of categorical data to encode, we will have to be mindful of the size of the dataset after encoding. If the dataset becomes too large, then obviously it will be of no help."
      ]
    },
    {
      "cell_type": "markdown",
      "metadata": {
        "id": "DeintUEsYy-E"
      },
      "source": [
        "We can run the `get_dummies` method in pandas to get an idea:"
      ]
    },
    {
      "cell_type": "code",
      "execution_count": 23,
      "metadata": {
        "colab": {
          "base_uri": "https://localhost:8080/"
        },
        "id": "RBK0A3erqlH_",
        "outputId": "058e9f22-d2b6-4a8d-d921-6acfa80f86c8"
      },
      "outputs": [
        {
          "output_type": "execute_result",
          "data": {
            "text/plain": [
              "['funder',\n",
              " 'installer',\n",
              " 'basin',\n",
              " 'subvillage',\n",
              " 'region',\n",
              " 'lga',\n",
              " 'ward',\n",
              " 'public_meeting',\n",
              " 'recorded_by',\n",
              " 'permit',\n",
              " 'extraction_type',\n",
              " 'management',\n",
              " 'management_group',\n",
              " 'payment',\n",
              " 'water_quality',\n",
              " 'quality_group',\n",
              " 'quantity',\n",
              " 'source',\n",
              " 'source_class',\n",
              " 'waterpoint_type',\n",
              " 'year']"
            ]
          },
          "metadata": {},
          "execution_count": 23
        }
      ],
      "source": [
        "cat_cols.remove('status_group')\n",
        "cat_cols"
      ]
    },
    {
      "cell_type": "code",
      "execution_count": 24,
      "metadata": {
        "colab": {
          "base_uri": "https://localhost:8080/"
        },
        "id": "keioXwRUZslX",
        "outputId": "14027daa-2450-4776-fb42-f62582bd43fc"
      },
      "outputs": [
        {
          "output_type": "execute_result",
          "data": {
            "text/plain": [
              "(59400, 25651)"
            ]
          },
          "metadata": {},
          "execution_count": 24
        }
      ],
      "source": [
        "df_cat = df[cat_cols]\n",
        "df_cat_ohe = pd.get_dummies(df_cat,drop_first=True)\n",
        "df_cat_ohe.shape"
      ]
    },
    {
      "cell_type": "markdown",
      "metadata": {
        "id": "lwqQ-LN9aArH"
      },
      "source": [
        "Clearly,we can see that is too big to handle. Hence, we will have to drop some of the columns to make computation easy. Let's check to see which columns have the most unique values:"
      ]
    },
    {
      "cell_type": "code",
      "execution_count": 25,
      "metadata": {
        "colab": {
          "base_uri": "https://localhost:8080/",
          "height": 362
        },
        "id": "FGUbsB2hc1uV",
        "outputId": "89288bc7-2c63-4c62-cf97-fed31ef3fafc",
        "scrolled": false
      },
      "outputs": [
        {
          "output_type": "execute_result",
          "data": {
            "text/plain": [
              "                 count\n",
              "subvillage       19288\n",
              "installer         2146\n",
              "ward              2092\n",
              "funder            1898\n",
              "lga                125\n",
              "region              21\n",
              "extraction_type     18\n",
              "management          12\n",
              "source              10\n",
              "basin                9"
            ],
            "text/html": [
              "\n",
              "\n",
              "  <div id=\"df-c39a3d74-b069-4d64-9321-04372842ad58\">\n",
              "    <div class=\"colab-df-container\">\n",
              "      <div>\n",
              "<style scoped>\n",
              "    .dataframe tbody tr th:only-of-type {\n",
              "        vertical-align: middle;\n",
              "    }\n",
              "\n",
              "    .dataframe tbody tr th {\n",
              "        vertical-align: top;\n",
              "    }\n",
              "\n",
              "    .dataframe thead th {\n",
              "        text-align: right;\n",
              "    }\n",
              "</style>\n",
              "<table border=\"1\" class=\"dataframe\">\n",
              "  <thead>\n",
              "    <tr style=\"text-align: right;\">\n",
              "      <th></th>\n",
              "      <th>count</th>\n",
              "    </tr>\n",
              "  </thead>\n",
              "  <tbody>\n",
              "    <tr>\n",
              "      <th>subvillage</th>\n",
              "      <td>19288</td>\n",
              "    </tr>\n",
              "    <tr>\n",
              "      <th>installer</th>\n",
              "      <td>2146</td>\n",
              "    </tr>\n",
              "    <tr>\n",
              "      <th>ward</th>\n",
              "      <td>2092</td>\n",
              "    </tr>\n",
              "    <tr>\n",
              "      <th>funder</th>\n",
              "      <td>1898</td>\n",
              "    </tr>\n",
              "    <tr>\n",
              "      <th>lga</th>\n",
              "      <td>125</td>\n",
              "    </tr>\n",
              "    <tr>\n",
              "      <th>region</th>\n",
              "      <td>21</td>\n",
              "    </tr>\n",
              "    <tr>\n",
              "      <th>extraction_type</th>\n",
              "      <td>18</td>\n",
              "    </tr>\n",
              "    <tr>\n",
              "      <th>management</th>\n",
              "      <td>12</td>\n",
              "    </tr>\n",
              "    <tr>\n",
              "      <th>source</th>\n",
              "      <td>10</td>\n",
              "    </tr>\n",
              "    <tr>\n",
              "      <th>basin</th>\n",
              "      <td>9</td>\n",
              "    </tr>\n",
              "  </tbody>\n",
              "</table>\n",
              "</div>\n",
              "      <button class=\"colab-df-convert\" onclick=\"convertToInteractive('df-c39a3d74-b069-4d64-9321-04372842ad58')\"\n",
              "              title=\"Convert this dataframe to an interactive table.\"\n",
              "              style=\"display:none;\">\n",
              "\n",
              "  <svg xmlns=\"http://www.w3.org/2000/svg\" height=\"24px\"viewBox=\"0 0 24 24\"\n",
              "       width=\"24px\">\n",
              "    <path d=\"M0 0h24v24H0V0z\" fill=\"none\"/>\n",
              "    <path d=\"M18.56 5.44l.94 2.06.94-2.06 2.06-.94-2.06-.94-.94-2.06-.94 2.06-2.06.94zm-11 1L8.5 8.5l.94-2.06 2.06-.94-2.06-.94L8.5 2.5l-.94 2.06-2.06.94zm10 10l.94 2.06.94-2.06 2.06-.94-2.06-.94-.94-2.06-.94 2.06-2.06.94z\"/><path d=\"M17.41 7.96l-1.37-1.37c-.4-.4-.92-.59-1.43-.59-.52 0-1.04.2-1.43.59L10.3 9.45l-7.72 7.72c-.78.78-.78 2.05 0 2.83L4 21.41c.39.39.9.59 1.41.59.51 0 1.02-.2 1.41-.59l7.78-7.78 2.81-2.81c.8-.78.8-2.07 0-2.86zM5.41 20L4 18.59l7.72-7.72 1.47 1.35L5.41 20z\"/>\n",
              "  </svg>\n",
              "      </button>\n",
              "\n",
              "\n",
              "\n",
              "    <div id=\"df-f2bbbc88-f85b-4017-92d1-12b7b69aa87b\">\n",
              "      <button class=\"colab-df-quickchart\" onclick=\"quickchart('df-f2bbbc88-f85b-4017-92d1-12b7b69aa87b')\"\n",
              "              title=\"Suggest charts.\"\n",
              "              style=\"display:none;\">\n",
              "\n",
              "<svg xmlns=\"http://www.w3.org/2000/svg\" height=\"24px\"viewBox=\"0 0 24 24\"\n",
              "     width=\"24px\">\n",
              "    <g>\n",
              "        <path d=\"M19 3H5c-1.1 0-2 .9-2 2v14c0 1.1.9 2 2 2h14c1.1 0 2-.9 2-2V5c0-1.1-.9-2-2-2zM9 17H7v-7h2v7zm4 0h-2V7h2v10zm4 0h-2v-4h2v4z\"/>\n",
              "    </g>\n",
              "</svg>\n",
              "      </button>\n",
              "    </div>\n",
              "\n",
              "<style>\n",
              "  .colab-df-quickchart {\n",
              "    background-color: #E8F0FE;\n",
              "    border: none;\n",
              "    border-radius: 50%;\n",
              "    cursor: pointer;\n",
              "    display: none;\n",
              "    fill: #1967D2;\n",
              "    height: 32px;\n",
              "    padding: 0 0 0 0;\n",
              "    width: 32px;\n",
              "  }\n",
              "\n",
              "  .colab-df-quickchart:hover {\n",
              "    background-color: #E2EBFA;\n",
              "    box-shadow: 0px 1px 2px rgba(60, 64, 67, 0.3), 0px 1px 3px 1px rgba(60, 64, 67, 0.15);\n",
              "    fill: #174EA6;\n",
              "  }\n",
              "\n",
              "  [theme=dark] .colab-df-quickchart {\n",
              "    background-color: #3B4455;\n",
              "    fill: #D2E3FC;\n",
              "  }\n",
              "\n",
              "  [theme=dark] .colab-df-quickchart:hover {\n",
              "    background-color: #434B5C;\n",
              "    box-shadow: 0px 1px 3px 1px rgba(0, 0, 0, 0.15);\n",
              "    filter: drop-shadow(0px 1px 2px rgba(0, 0, 0, 0.3));\n",
              "    fill: #FFFFFF;\n",
              "  }\n",
              "</style>\n",
              "\n",
              "    <script>\n",
              "      async function quickchart(key) {\n",
              "        const containerElement = document.querySelector('#' + key);\n",
              "        const charts = await google.colab.kernel.invokeFunction(\n",
              "            'suggestCharts', [key], {});\n",
              "      }\n",
              "    </script>\n",
              "\n",
              "\n",
              "      <script>\n",
              "\n",
              "function displayQuickchartButton(domScope) {\n",
              "  let quickchartButtonEl =\n",
              "    domScope.querySelector('#df-f2bbbc88-f85b-4017-92d1-12b7b69aa87b button.colab-df-quickchart');\n",
              "  quickchartButtonEl.style.display =\n",
              "    google.colab.kernel.accessAllowed ? 'block' : 'none';\n",
              "}\n",
              "\n",
              "        displayQuickchartButton(document);\n",
              "      </script>\n",
              "      <style>\n",
              "    .colab-df-container {\n",
              "      display:flex;\n",
              "      flex-wrap:wrap;\n",
              "      gap: 12px;\n",
              "    }\n",
              "\n",
              "    .colab-df-convert {\n",
              "      background-color: #E8F0FE;\n",
              "      border: none;\n",
              "      border-radius: 50%;\n",
              "      cursor: pointer;\n",
              "      display: none;\n",
              "      fill: #1967D2;\n",
              "      height: 32px;\n",
              "      padding: 0 0 0 0;\n",
              "      width: 32px;\n",
              "    }\n",
              "\n",
              "    .colab-df-convert:hover {\n",
              "      background-color: #E2EBFA;\n",
              "      box-shadow: 0px 1px 2px rgba(60, 64, 67, 0.3), 0px 1px 3px 1px rgba(60, 64, 67, 0.15);\n",
              "      fill: #174EA6;\n",
              "    }\n",
              "\n",
              "    [theme=dark] .colab-df-convert {\n",
              "      background-color: #3B4455;\n",
              "      fill: #D2E3FC;\n",
              "    }\n",
              "\n",
              "    [theme=dark] .colab-df-convert:hover {\n",
              "      background-color: #434B5C;\n",
              "      box-shadow: 0px 1px 3px 1px rgba(0, 0, 0, 0.15);\n",
              "      filter: drop-shadow(0px 1px 2px rgba(0, 0, 0, 0.3));\n",
              "      fill: #FFFFFF;\n",
              "    }\n",
              "  </style>\n",
              "\n",
              "      <script>\n",
              "        const buttonEl =\n",
              "          document.querySelector('#df-c39a3d74-b069-4d64-9321-04372842ad58 button.colab-df-convert');\n",
              "        buttonEl.style.display =\n",
              "          google.colab.kernel.accessAllowed ? 'block' : 'none';\n",
              "\n",
              "        async function convertToInteractive(key) {\n",
              "          const element = document.querySelector('#df-c39a3d74-b069-4d64-9321-04372842ad58');\n",
              "          const dataTable =\n",
              "            await google.colab.kernel.invokeFunction('convertToInteractive',\n",
              "                                                     [key], {});\n",
              "          if (!dataTable) return;\n",
              "\n",
              "          const docLinkHtml = 'Like what you see? Visit the ' +\n",
              "            '<a target=\"_blank\" href=https://colab.research.google.com/notebooks/data_table.ipynb>data table notebook</a>'\n",
              "            + ' to learn more about interactive tables.';\n",
              "          element.innerHTML = '';\n",
              "          dataTable['output_type'] = 'display_data';\n",
              "          await google.colab.output.renderOutput(dataTable, element);\n",
              "          const docLink = document.createElement('div');\n",
              "          docLink.innerHTML = docLinkHtml;\n",
              "          element.appendChild(docLink);\n",
              "        }\n",
              "      </script>\n",
              "    </div>\n",
              "  </div>\n"
            ]
          },
          "metadata": {},
          "execution_count": 25
        }
      ],
      "source": [
        "#creating a dictionary for the columns and their unique values\n",
        "#initializing an empty dict\n",
        "unique = {}\n",
        "for x in cat_cols:\n",
        "  unique[x] = df[x].nunique() #getting the count of unique values\n",
        "\n",
        "#creating a df for readability\n",
        "df_unique = pd.DataFrame() #creating an empty df\n",
        "df_unique = df_unique.append(unique, ignore_index=True) #appending to the df\n",
        "df_unique = df_unique.T #transposing the df\n",
        "df_unique.columns = ['count'] #renaming the columns\n",
        "df_unique.sort_values('count',ascending=False,inplace=True) #sorting the count in desc for readability\n",
        "df_unique.head(10)#getting the top 10 features with unique values"
      ]
    },
    {
      "cell_type": "markdown",
      "metadata": {
        "id": "oa4-7O-5VJM6"
      },
      "source": [
        "Features from `subvillage` thru `lga` will have to be removed since keeping them would make the dataset unmanageable:"
      ]
    },
    {
      "cell_type": "code",
      "execution_count": 26,
      "metadata": {
        "colab": {
          "base_uri": "https://localhost:8080/"
        },
        "id": "OVFgG6WTVJM6",
        "outputId": "7e6b1acf-3c33-4a3e-8d85-194bcd9816d8"
      },
      "outputs": [
        {
          "output_type": "stream",
          "name": "stdout",
          "text": [
            "<class 'pandas.core.frame.DataFrame'>\n",
            "RangeIndex: 59400 entries, 0 to 59399\n",
            "Data columns (total 25 columns):\n",
            " #   Column             Non-Null Count  Dtype  \n",
            "---  ------             --------------  -----  \n",
            " 0   amount_tsh         59400 non-null  float64\n",
            " 1   gps_height         59400 non-null  int64  \n",
            " 2   longitude          59400 non-null  float64\n",
            " 3   latitude           59400 non-null  float64\n",
            " 4   num_private        59400 non-null  int64  \n",
            " 5   basin              59400 non-null  object \n",
            " 6   region             59400 non-null  object \n",
            " 7   region_code        59400 non-null  int64  \n",
            " 8   district_code      59400 non-null  int64  \n",
            " 9   population         59400 non-null  int64  \n",
            " 10  public_meeting     59400 non-null  object \n",
            " 11  recorded_by        59400 non-null  object \n",
            " 12  permit             59400 non-null  object \n",
            " 13  construction_year  59400 non-null  int64  \n",
            " 14  extraction_type    59400 non-null  object \n",
            " 15  management         59400 non-null  object \n",
            " 16  management_group   59400 non-null  object \n",
            " 17  payment            59400 non-null  object \n",
            " 18  water_quality      59400 non-null  object \n",
            " 19  quality_group      59400 non-null  object \n",
            " 20  quantity           59400 non-null  object \n",
            " 21  source             59400 non-null  object \n",
            " 22  source_class       59400 non-null  object \n",
            " 23  waterpoint_type    59400 non-null  object \n",
            " 24  status_group       59400 non-null  object \n",
            "dtypes: float64(3), int64(6), object(16)\n",
            "memory usage: 11.3+ MB\n"
          ]
        }
      ],
      "source": [
        "#dropping the features\n",
        "df.drop(['subvillage','installer','ward','funder','lga','id','date_recorded','year'],axis=1,inplace=True)\n",
        "\n",
        "#checking the df\n",
        "df.info()"
      ]
    },
    {
      "cell_type": "code",
      "execution_count": 27,
      "metadata": {
        "colab": {
          "base_uri": "https://localhost:8080/"
        },
        "id": "Wq9tjPDeVJM6",
        "outputId": "612d72f0-85fe-4cf3-819d-5b98c3d67961"
      },
      "outputs": [
        {
          "output_type": "execute_result",
          "data": {
            "text/plain": [
              "(59400, 103)"
            ]
          },
          "metadata": {},
          "execution_count": 27
        }
      ],
      "source": [
        "#getting the list of categorical and numerical columns again since we've modified the dataset\n",
        "cat_cols = [col for col in df.columns if df[col].dtypes == 'O']\n",
        "cat_cols.remove('status_group')\n",
        "num_cols = [col for col in df.columns if df[col].dtypes != 'O']\n",
        "\n",
        "#running the get_dummies method again\n",
        "df_cat = df[cat_cols]\n",
        "df_cat_ohe = pd.get_dummies(df_cat,drop_first=True)\n",
        "df_cat_ohe.shape\n"
      ]
    },
    {
      "cell_type": "markdown",
      "metadata": {
        "id": "P-EjPbxpVJM6"
      },
      "source": [
        "We can see how removing some of the columns has reduced the size of the dataset making it much easier to work with."
      ]
    },
    {
      "cell_type": "markdown",
      "metadata": {
        "id": "b5Ilca45VJM6"
      },
      "source": [
        "### train and test splits"
      ]
    },
    {
      "cell_type": "markdown",
      "metadata": {
        "id": "jhZnEbNfVJM6"
      },
      "source": [
        "Now that the EDA and pre-processing steps are complete, it's time to set-up the dataset for modelling. First step is to create train and test splits:"
      ]
    },
    {
      "cell_type": "markdown",
      "metadata": {
        "id": "H95WB5SFVJM6"
      },
      "source": [
        "`status_group` will be out target feature i.e.`y` while the rest of the features will serve as `X`"
      ]
    },
    {
      "cell_type": "code",
      "execution_count": 28,
      "metadata": {
        "id": "SAkMkzcqwxcS"
      },
      "outputs": [],
      "source": [
        "#splitting train and test sets\n",
        "X = df.drop(['status_group'],axis=1)\n",
        "y = df['status_group']\n",
        "\n",
        "X_train,X_test,y_train,y_test = train_test_split(X,y,random_state=42)"
      ]
    },
    {
      "cell_type": "markdown",
      "metadata": {
        "id": "9wxxcPOaVJM6"
      },
      "source": [
        "Since the scales of the numerical data vary, we can apply the MinMaxScaler class and bring them all to the same scale i.e. between 0 and 1. Also, we will apply OneHotEncoding for the categorical data"
      ]
    },
    {
      "cell_type": "markdown",
      "metadata": {
        "id": "pe0l5LwHVJM8"
      },
      "source": [
        "Both the scaling and the encoding can be done at once using ColumnTransfomer. By setting up the transformer, we can then apply it to the desired columns in the data frame and get our transformed data."
      ]
    },
    {
      "cell_type": "markdown",
      "metadata": {
        "id": "bVdTRGMrwxcT"
      },
      "source": [
        "### Column Transformer"
      ]
    },
    {
      "cell_type": "code",
      "execution_count": 29,
      "metadata": {
        "id": "4pprcB92wxcT"
      },
      "outputs": [],
      "source": [
        "# instantiate the transformer to scale the numeric data and encode categorical data\n",
        "ct = ColumnTransformer([\n",
        "    ('scale', MinMaxScaler(), num_cols),\n",
        "    ('encode', OneHotEncoder(sparse=False,handle_unknown='ignore'), cat_cols)\n",
        "])"
      ]
    },
    {
      "cell_type": "code",
      "execution_count": 30,
      "metadata": {
        "colab": {
          "base_uri": "https://localhost:8080/",
          "height": 299
        },
        "id": "MZuwJgwUVJM8",
        "outputId": "34393bba-9bbc-435f-9aa6-975f63055bcb"
      },
      "outputs": [
        {
          "output_type": "execute_result",
          "data": {
            "text/plain": [
              "        0         1         2         3    4         5       6         7    \\\n",
              "0  0.000057  0.138722  0.944941  0.477474  0.0  0.051020  0.0125  0.002623   \n",
              "1  0.000000  0.022238  0.000000  1.000000  0.0  0.163265  0.0125  0.000000   \n",
              "2  0.000000  0.022238  0.825683  0.758435  0.0  0.183673  0.0500  0.000000   \n",
              "3  0.000000  0.566537  0.862136  0.584350  0.0  0.122449  0.0500  0.000754   \n",
              "4  0.000000  0.206848  0.859110  0.080872  0.0  0.091837  0.0375  0.000033   \n",
              "\n",
              "        8    9    ...  117  118  119  120  121  122  123  124  125  126  \n",
              "0  0.979632  0.0  ...  1.0  0.0  0.0  0.0  1.0  0.0  0.0  0.0  0.0  0.0  \n",
              "1  0.000000  0.0  ...  1.0  0.0  0.0  0.0  0.0  0.0  0.0  1.0  0.0  0.0  \n",
              "2  0.000000  0.0  ...  1.0  0.0  0.0  0.0  0.0  0.0  0.0  1.0  0.0  0.0  \n",
              "3  0.998510  1.0  ...  0.0  1.0  0.0  0.0  1.0  0.0  0.0  0.0  0.0  0.0  \n",
              "4  1.000000  0.0  ...  1.0  0.0  0.0  0.0  1.0  0.0  0.0  0.0  0.0  0.0  \n",
              "\n",
              "[5 rows x 127 columns]"
            ],
            "text/html": [
              "\n",
              "\n",
              "  <div id=\"df-76ddd598-bd5d-4c49-8078-4e334db630a9\">\n",
              "    <div class=\"colab-df-container\">\n",
              "      <div>\n",
              "<style scoped>\n",
              "    .dataframe tbody tr th:only-of-type {\n",
              "        vertical-align: middle;\n",
              "    }\n",
              "\n",
              "    .dataframe tbody tr th {\n",
              "        vertical-align: top;\n",
              "    }\n",
              "\n",
              "    .dataframe thead th {\n",
              "        text-align: right;\n",
              "    }\n",
              "</style>\n",
              "<table border=\"1\" class=\"dataframe\">\n",
              "  <thead>\n",
              "    <tr style=\"text-align: right;\">\n",
              "      <th></th>\n",
              "      <th>0</th>\n",
              "      <th>1</th>\n",
              "      <th>2</th>\n",
              "      <th>3</th>\n",
              "      <th>4</th>\n",
              "      <th>5</th>\n",
              "      <th>6</th>\n",
              "      <th>7</th>\n",
              "      <th>8</th>\n",
              "      <th>9</th>\n",
              "      <th>...</th>\n",
              "      <th>117</th>\n",
              "      <th>118</th>\n",
              "      <th>119</th>\n",
              "      <th>120</th>\n",
              "      <th>121</th>\n",
              "      <th>122</th>\n",
              "      <th>123</th>\n",
              "      <th>124</th>\n",
              "      <th>125</th>\n",
              "      <th>126</th>\n",
              "    </tr>\n",
              "  </thead>\n",
              "  <tbody>\n",
              "    <tr>\n",
              "      <th>0</th>\n",
              "      <td>0.000057</td>\n",
              "      <td>0.138722</td>\n",
              "      <td>0.944941</td>\n",
              "      <td>0.477474</td>\n",
              "      <td>0.0</td>\n",
              "      <td>0.051020</td>\n",
              "      <td>0.0125</td>\n",
              "      <td>0.002623</td>\n",
              "      <td>0.979632</td>\n",
              "      <td>0.0</td>\n",
              "      <td>...</td>\n",
              "      <td>1.0</td>\n",
              "      <td>0.0</td>\n",
              "      <td>0.0</td>\n",
              "      <td>0.0</td>\n",
              "      <td>1.0</td>\n",
              "      <td>0.0</td>\n",
              "      <td>0.0</td>\n",
              "      <td>0.0</td>\n",
              "      <td>0.0</td>\n",
              "      <td>0.0</td>\n",
              "    </tr>\n",
              "    <tr>\n",
              "      <th>1</th>\n",
              "      <td>0.000000</td>\n",
              "      <td>0.022238</td>\n",
              "      <td>0.000000</td>\n",
              "      <td>1.000000</td>\n",
              "      <td>0.0</td>\n",
              "      <td>0.163265</td>\n",
              "      <td>0.0125</td>\n",
              "      <td>0.000000</td>\n",
              "      <td>0.000000</td>\n",
              "      <td>0.0</td>\n",
              "      <td>...</td>\n",
              "      <td>1.0</td>\n",
              "      <td>0.0</td>\n",
              "      <td>0.0</td>\n",
              "      <td>0.0</td>\n",
              "      <td>0.0</td>\n",
              "      <td>0.0</td>\n",
              "      <td>0.0</td>\n",
              "      <td>1.0</td>\n",
              "      <td>0.0</td>\n",
              "      <td>0.0</td>\n",
              "    </tr>\n",
              "    <tr>\n",
              "      <th>2</th>\n",
              "      <td>0.000000</td>\n",
              "      <td>0.022238</td>\n",
              "      <td>0.825683</td>\n",
              "      <td>0.758435</td>\n",
              "      <td>0.0</td>\n",
              "      <td>0.183673</td>\n",
              "      <td>0.0500</td>\n",
              "      <td>0.000000</td>\n",
              "      <td>0.000000</td>\n",
              "      <td>0.0</td>\n",
              "      <td>...</td>\n",
              "      <td>1.0</td>\n",
              "      <td>0.0</td>\n",
              "      <td>0.0</td>\n",
              "      <td>0.0</td>\n",
              "      <td>0.0</td>\n",
              "      <td>0.0</td>\n",
              "      <td>0.0</td>\n",
              "      <td>1.0</td>\n",
              "      <td>0.0</td>\n",
              "      <td>0.0</td>\n",
              "    </tr>\n",
              "    <tr>\n",
              "      <th>3</th>\n",
              "      <td>0.000000</td>\n",
              "      <td>0.566537</td>\n",
              "      <td>0.862136</td>\n",
              "      <td>0.584350</td>\n",
              "      <td>0.0</td>\n",
              "      <td>0.122449</td>\n",
              "      <td>0.0500</td>\n",
              "      <td>0.000754</td>\n",
              "      <td>0.998510</td>\n",
              "      <td>1.0</td>\n",
              "      <td>...</td>\n",
              "      <td>0.0</td>\n",
              "      <td>1.0</td>\n",
              "      <td>0.0</td>\n",
              "      <td>0.0</td>\n",
              "      <td>1.0</td>\n",
              "      <td>0.0</td>\n",
              "      <td>0.0</td>\n",
              "      <td>0.0</td>\n",
              "      <td>0.0</td>\n",
              "      <td>0.0</td>\n",
              "    </tr>\n",
              "    <tr>\n",
              "      <th>4</th>\n",
              "      <td>0.000000</td>\n",
              "      <td>0.206848</td>\n",
              "      <td>0.859110</td>\n",
              "      <td>0.080872</td>\n",
              "      <td>0.0</td>\n",
              "      <td>0.091837</td>\n",
              "      <td>0.0375</td>\n",
              "      <td>0.000033</td>\n",
              "      <td>1.000000</td>\n",
              "      <td>0.0</td>\n",
              "      <td>...</td>\n",
              "      <td>1.0</td>\n",
              "      <td>0.0</td>\n",
              "      <td>0.0</td>\n",
              "      <td>0.0</td>\n",
              "      <td>1.0</td>\n",
              "      <td>0.0</td>\n",
              "      <td>0.0</td>\n",
              "      <td>0.0</td>\n",
              "      <td>0.0</td>\n",
              "      <td>0.0</td>\n",
              "    </tr>\n",
              "  </tbody>\n",
              "</table>\n",
              "<p>5 rows × 127 columns</p>\n",
              "</div>\n",
              "      <button class=\"colab-df-convert\" onclick=\"convertToInteractive('df-76ddd598-bd5d-4c49-8078-4e334db630a9')\"\n",
              "              title=\"Convert this dataframe to an interactive table.\"\n",
              "              style=\"display:none;\">\n",
              "\n",
              "  <svg xmlns=\"http://www.w3.org/2000/svg\" height=\"24px\"viewBox=\"0 0 24 24\"\n",
              "       width=\"24px\">\n",
              "    <path d=\"M0 0h24v24H0V0z\" fill=\"none\"/>\n",
              "    <path d=\"M18.56 5.44l.94 2.06.94-2.06 2.06-.94-2.06-.94-.94-2.06-.94 2.06-2.06.94zm-11 1L8.5 8.5l.94-2.06 2.06-.94-2.06-.94L8.5 2.5l-.94 2.06-2.06.94zm10 10l.94 2.06.94-2.06 2.06-.94-2.06-.94-.94-2.06-.94 2.06-2.06.94z\"/><path d=\"M17.41 7.96l-1.37-1.37c-.4-.4-.92-.59-1.43-.59-.52 0-1.04.2-1.43.59L10.3 9.45l-7.72 7.72c-.78.78-.78 2.05 0 2.83L4 21.41c.39.39.9.59 1.41.59.51 0 1.02-.2 1.41-.59l7.78-7.78 2.81-2.81c.8-.78.8-2.07 0-2.86zM5.41 20L4 18.59l7.72-7.72 1.47 1.35L5.41 20z\"/>\n",
              "  </svg>\n",
              "      </button>\n",
              "\n",
              "\n",
              "\n",
              "    <div id=\"df-8b2ca6fd-af5d-4f6d-9259-1c94195bd6e8\">\n",
              "      <button class=\"colab-df-quickchart\" onclick=\"quickchart('df-8b2ca6fd-af5d-4f6d-9259-1c94195bd6e8')\"\n",
              "              title=\"Suggest charts.\"\n",
              "              style=\"display:none;\">\n",
              "\n",
              "<svg xmlns=\"http://www.w3.org/2000/svg\" height=\"24px\"viewBox=\"0 0 24 24\"\n",
              "     width=\"24px\">\n",
              "    <g>\n",
              "        <path d=\"M19 3H5c-1.1 0-2 .9-2 2v14c0 1.1.9 2 2 2h14c1.1 0 2-.9 2-2V5c0-1.1-.9-2-2-2zM9 17H7v-7h2v7zm4 0h-2V7h2v10zm4 0h-2v-4h2v4z\"/>\n",
              "    </g>\n",
              "</svg>\n",
              "      </button>\n",
              "    </div>\n",
              "\n",
              "<style>\n",
              "  .colab-df-quickchart {\n",
              "    background-color: #E8F0FE;\n",
              "    border: none;\n",
              "    border-radius: 50%;\n",
              "    cursor: pointer;\n",
              "    display: none;\n",
              "    fill: #1967D2;\n",
              "    height: 32px;\n",
              "    padding: 0 0 0 0;\n",
              "    width: 32px;\n",
              "  }\n",
              "\n",
              "  .colab-df-quickchart:hover {\n",
              "    background-color: #E2EBFA;\n",
              "    box-shadow: 0px 1px 2px rgba(60, 64, 67, 0.3), 0px 1px 3px 1px rgba(60, 64, 67, 0.15);\n",
              "    fill: #174EA6;\n",
              "  }\n",
              "\n",
              "  [theme=dark] .colab-df-quickchart {\n",
              "    background-color: #3B4455;\n",
              "    fill: #D2E3FC;\n",
              "  }\n",
              "\n",
              "  [theme=dark] .colab-df-quickchart:hover {\n",
              "    background-color: #434B5C;\n",
              "    box-shadow: 0px 1px 3px 1px rgba(0, 0, 0, 0.15);\n",
              "    filter: drop-shadow(0px 1px 2px rgba(0, 0, 0, 0.3));\n",
              "    fill: #FFFFFF;\n",
              "  }\n",
              "</style>\n",
              "\n",
              "    <script>\n",
              "      async function quickchart(key) {\n",
              "        const containerElement = document.querySelector('#' + key);\n",
              "        const charts = await google.colab.kernel.invokeFunction(\n",
              "            'suggestCharts', [key], {});\n",
              "      }\n",
              "    </script>\n",
              "\n",
              "\n",
              "      <script>\n",
              "\n",
              "function displayQuickchartButton(domScope) {\n",
              "  let quickchartButtonEl =\n",
              "    domScope.querySelector('#df-8b2ca6fd-af5d-4f6d-9259-1c94195bd6e8 button.colab-df-quickchart');\n",
              "  quickchartButtonEl.style.display =\n",
              "    google.colab.kernel.accessAllowed ? 'block' : 'none';\n",
              "}\n",
              "\n",
              "        displayQuickchartButton(document);\n",
              "      </script>\n",
              "      <style>\n",
              "    .colab-df-container {\n",
              "      display:flex;\n",
              "      flex-wrap:wrap;\n",
              "      gap: 12px;\n",
              "    }\n",
              "\n",
              "    .colab-df-convert {\n",
              "      background-color: #E8F0FE;\n",
              "      border: none;\n",
              "      border-radius: 50%;\n",
              "      cursor: pointer;\n",
              "      display: none;\n",
              "      fill: #1967D2;\n",
              "      height: 32px;\n",
              "      padding: 0 0 0 0;\n",
              "      width: 32px;\n",
              "    }\n",
              "\n",
              "    .colab-df-convert:hover {\n",
              "      background-color: #E2EBFA;\n",
              "      box-shadow: 0px 1px 2px rgba(60, 64, 67, 0.3), 0px 1px 3px 1px rgba(60, 64, 67, 0.15);\n",
              "      fill: #174EA6;\n",
              "    }\n",
              "\n",
              "    [theme=dark] .colab-df-convert {\n",
              "      background-color: #3B4455;\n",
              "      fill: #D2E3FC;\n",
              "    }\n",
              "\n",
              "    [theme=dark] .colab-df-convert:hover {\n",
              "      background-color: #434B5C;\n",
              "      box-shadow: 0px 1px 3px 1px rgba(0, 0, 0, 0.15);\n",
              "      filter: drop-shadow(0px 1px 2px rgba(0, 0, 0, 0.3));\n",
              "      fill: #FFFFFF;\n",
              "    }\n",
              "  </style>\n",
              "\n",
              "      <script>\n",
              "        const buttonEl =\n",
              "          document.querySelector('#df-76ddd598-bd5d-4c49-8078-4e334db630a9 button.colab-df-convert');\n",
              "        buttonEl.style.display =\n",
              "          google.colab.kernel.accessAllowed ? 'block' : 'none';\n",
              "\n",
              "        async function convertToInteractive(key) {\n",
              "          const element = document.querySelector('#df-76ddd598-bd5d-4c49-8078-4e334db630a9');\n",
              "          const dataTable =\n",
              "            await google.colab.kernel.invokeFunction('convertToInteractive',\n",
              "                                                     [key], {});\n",
              "          if (!dataTable) return;\n",
              "\n",
              "          const docLinkHtml = 'Like what you see? Visit the ' +\n",
              "            '<a target=\"_blank\" href=https://colab.research.google.com/notebooks/data_table.ipynb>data table notebook</a>'\n",
              "            + ' to learn more about interactive tables.';\n",
              "          element.innerHTML = '';\n",
              "          dataTable['output_type'] = 'display_data';\n",
              "          await google.colab.output.renderOutput(dataTable, element);\n",
              "          const docLink = document.createElement('div');\n",
              "          docLink.innerHTML = docLinkHtml;\n",
              "          element.appendChild(docLink);\n",
              "        }\n",
              "      </script>\n",
              "    </div>\n",
              "  </div>\n"
            ]
          },
          "metadata": {},
          "execution_count": 30
        }
      ],
      "source": [
        "# #removing status_group from the list of categorical data\n",
        "# cat_cols.remove('status_group')\n",
        "\n",
        "#transforming the categrical data to str for the encoder to work\n",
        "X_train[cat_cols] = X_train[cat_cols].astype('str')\n",
        "\n",
        "#fitting and transforming the train set with the transformer\n",
        "X_train = pd.DataFrame(data=ct.fit_transform(X_train))\n",
        "X_train.head()"
      ]
    },
    {
      "cell_type": "code",
      "execution_count": 31,
      "metadata": {
        "colab": {
          "base_uri": "https://localhost:8080/",
          "height": 299
        },
        "id": "lf0Z-LAiwxcT",
        "outputId": "ac805ae0-a826-42ca-9cfd-fe648428b45e",
        "scrolled": true
      },
      "outputs": [
        {
          "output_type": "execute_result",
          "data": {
            "text/plain": [
              "        0         1         2         3    4         5       6         7    \\\n",
              "0  0.000000  0.022238  0.792800  0.691285  0.0  0.163265  0.0625  0.000000   \n",
              "1  0.000000  0.022238  0.813797  0.575521  0.0  0.132653  0.0750  0.000000   \n",
              "2  0.000029  0.613484  0.879616  0.635858  0.0  0.204082  0.0125  0.004852   \n",
              "3  0.000000  0.022238  0.821432  0.222333  0.0  0.112245  0.0750  0.000000   \n",
              "4  0.000143  0.413696  0.848108  0.619679  0.0  0.122449  0.0125  0.007705   \n",
              "\n",
              "        8    9    ...  117  118  119  120  121  122  123  124  125  126  \n",
              "0  0.000000  0.0  ...  1.0  0.0  0.0  0.0  0.0  0.0  0.0  0.0  0.0  1.0  \n",
              "1  0.000000  0.0  ...  1.0  0.0  0.0  0.0  0.0  0.0  0.0  1.0  0.0  0.0  \n",
              "2  0.997516  1.0  ...  1.0  0.0  0.0  0.0  1.0  0.0  0.0  0.0  0.0  0.0  \n",
              "3  0.000000  0.0  ...  1.0  0.0  0.0  0.0  0.0  0.0  0.0  1.0  0.0  0.0  \n",
              "4  0.999006  1.0  ...  1.0  0.0  0.0  0.0  0.0  1.0  0.0  0.0  0.0  0.0  \n",
              "\n",
              "[5 rows x 127 columns]"
            ],
            "text/html": [
              "\n",
              "\n",
              "  <div id=\"df-805ea4da-f5c5-46c3-b6bb-3c4156c44964\">\n",
              "    <div class=\"colab-df-container\">\n",
              "      <div>\n",
              "<style scoped>\n",
              "    .dataframe tbody tr th:only-of-type {\n",
              "        vertical-align: middle;\n",
              "    }\n",
              "\n",
              "    .dataframe tbody tr th {\n",
              "        vertical-align: top;\n",
              "    }\n",
              "\n",
              "    .dataframe thead th {\n",
              "        text-align: right;\n",
              "    }\n",
              "</style>\n",
              "<table border=\"1\" class=\"dataframe\">\n",
              "  <thead>\n",
              "    <tr style=\"text-align: right;\">\n",
              "      <th></th>\n",
              "      <th>0</th>\n",
              "      <th>1</th>\n",
              "      <th>2</th>\n",
              "      <th>3</th>\n",
              "      <th>4</th>\n",
              "      <th>5</th>\n",
              "      <th>6</th>\n",
              "      <th>7</th>\n",
              "      <th>8</th>\n",
              "      <th>9</th>\n",
              "      <th>...</th>\n",
              "      <th>117</th>\n",
              "      <th>118</th>\n",
              "      <th>119</th>\n",
              "      <th>120</th>\n",
              "      <th>121</th>\n",
              "      <th>122</th>\n",
              "      <th>123</th>\n",
              "      <th>124</th>\n",
              "      <th>125</th>\n",
              "      <th>126</th>\n",
              "    </tr>\n",
              "  </thead>\n",
              "  <tbody>\n",
              "    <tr>\n",
              "      <th>0</th>\n",
              "      <td>0.000000</td>\n",
              "      <td>0.022238</td>\n",
              "      <td>0.792800</td>\n",
              "      <td>0.691285</td>\n",
              "      <td>0.0</td>\n",
              "      <td>0.163265</td>\n",
              "      <td>0.0625</td>\n",
              "      <td>0.000000</td>\n",
              "      <td>0.000000</td>\n",
              "      <td>0.0</td>\n",
              "      <td>...</td>\n",
              "      <td>1.0</td>\n",
              "      <td>0.0</td>\n",
              "      <td>0.0</td>\n",
              "      <td>0.0</td>\n",
              "      <td>0.0</td>\n",
              "      <td>0.0</td>\n",
              "      <td>0.0</td>\n",
              "      <td>0.0</td>\n",
              "      <td>0.0</td>\n",
              "      <td>1.0</td>\n",
              "    </tr>\n",
              "    <tr>\n",
              "      <th>1</th>\n",
              "      <td>0.000000</td>\n",
              "      <td>0.022238</td>\n",
              "      <td>0.813797</td>\n",
              "      <td>0.575521</td>\n",
              "      <td>0.0</td>\n",
              "      <td>0.132653</td>\n",
              "      <td>0.0750</td>\n",
              "      <td>0.000000</td>\n",
              "      <td>0.000000</td>\n",
              "      <td>0.0</td>\n",
              "      <td>...</td>\n",
              "      <td>1.0</td>\n",
              "      <td>0.0</td>\n",
              "      <td>0.0</td>\n",
              "      <td>0.0</td>\n",
              "      <td>0.0</td>\n",
              "      <td>0.0</td>\n",
              "      <td>0.0</td>\n",
              "      <td>1.0</td>\n",
              "      <td>0.0</td>\n",
              "      <td>0.0</td>\n",
              "    </tr>\n",
              "    <tr>\n",
              "      <th>2</th>\n",
              "      <td>0.000029</td>\n",
              "      <td>0.613484</td>\n",
              "      <td>0.879616</td>\n",
              "      <td>0.635858</td>\n",
              "      <td>0.0</td>\n",
              "      <td>0.204082</td>\n",
              "      <td>0.0125</td>\n",
              "      <td>0.004852</td>\n",
              "      <td>0.997516</td>\n",
              "      <td>1.0</td>\n",
              "      <td>...</td>\n",
              "      <td>1.0</td>\n",
              "      <td>0.0</td>\n",
              "      <td>0.0</td>\n",
              "      <td>0.0</td>\n",
              "      <td>1.0</td>\n",
              "      <td>0.0</td>\n",
              "      <td>0.0</td>\n",
              "      <td>0.0</td>\n",
              "      <td>0.0</td>\n",
              "      <td>0.0</td>\n",
              "    </tr>\n",
              "    <tr>\n",
              "      <th>3</th>\n",
              "      <td>0.000000</td>\n",
              "      <td>0.022238</td>\n",
              "      <td>0.821432</td>\n",
              "      <td>0.222333</td>\n",
              "      <td>0.0</td>\n",
              "      <td>0.112245</td>\n",
              "      <td>0.0750</td>\n",
              "      <td>0.000000</td>\n",
              "      <td>0.000000</td>\n",
              "      <td>0.0</td>\n",
              "      <td>...</td>\n",
              "      <td>1.0</td>\n",
              "      <td>0.0</td>\n",
              "      <td>0.0</td>\n",
              "      <td>0.0</td>\n",
              "      <td>0.0</td>\n",
              "      <td>0.0</td>\n",
              "      <td>0.0</td>\n",
              "      <td>1.0</td>\n",
              "      <td>0.0</td>\n",
              "      <td>0.0</td>\n",
              "    </tr>\n",
              "    <tr>\n",
              "      <th>4</th>\n",
              "      <td>0.000143</td>\n",
              "      <td>0.413696</td>\n",
              "      <td>0.848108</td>\n",
              "      <td>0.619679</td>\n",
              "      <td>0.0</td>\n",
              "      <td>0.122449</td>\n",
              "      <td>0.0125</td>\n",
              "      <td>0.007705</td>\n",
              "      <td>0.999006</td>\n",
              "      <td>1.0</td>\n",
              "      <td>...</td>\n",
              "      <td>1.0</td>\n",
              "      <td>0.0</td>\n",
              "      <td>0.0</td>\n",
              "      <td>0.0</td>\n",
              "      <td>0.0</td>\n",
              "      <td>1.0</td>\n",
              "      <td>0.0</td>\n",
              "      <td>0.0</td>\n",
              "      <td>0.0</td>\n",
              "      <td>0.0</td>\n",
              "    </tr>\n",
              "  </tbody>\n",
              "</table>\n",
              "<p>5 rows × 127 columns</p>\n",
              "</div>\n",
              "      <button class=\"colab-df-convert\" onclick=\"convertToInteractive('df-805ea4da-f5c5-46c3-b6bb-3c4156c44964')\"\n",
              "              title=\"Convert this dataframe to an interactive table.\"\n",
              "              style=\"display:none;\">\n",
              "\n",
              "  <svg xmlns=\"http://www.w3.org/2000/svg\" height=\"24px\"viewBox=\"0 0 24 24\"\n",
              "       width=\"24px\">\n",
              "    <path d=\"M0 0h24v24H0V0z\" fill=\"none\"/>\n",
              "    <path d=\"M18.56 5.44l.94 2.06.94-2.06 2.06-.94-2.06-.94-.94-2.06-.94 2.06-2.06.94zm-11 1L8.5 8.5l.94-2.06 2.06-.94-2.06-.94L8.5 2.5l-.94 2.06-2.06.94zm10 10l.94 2.06.94-2.06 2.06-.94-2.06-.94-.94-2.06-.94 2.06-2.06.94z\"/><path d=\"M17.41 7.96l-1.37-1.37c-.4-.4-.92-.59-1.43-.59-.52 0-1.04.2-1.43.59L10.3 9.45l-7.72 7.72c-.78.78-.78 2.05 0 2.83L4 21.41c.39.39.9.59 1.41.59.51 0 1.02-.2 1.41-.59l7.78-7.78 2.81-2.81c.8-.78.8-2.07 0-2.86zM5.41 20L4 18.59l7.72-7.72 1.47 1.35L5.41 20z\"/>\n",
              "  </svg>\n",
              "      </button>\n",
              "\n",
              "\n",
              "\n",
              "    <div id=\"df-ad018575-f5eb-4b65-a3f2-be7dfbeb5f13\">\n",
              "      <button class=\"colab-df-quickchart\" onclick=\"quickchart('df-ad018575-f5eb-4b65-a3f2-be7dfbeb5f13')\"\n",
              "              title=\"Suggest charts.\"\n",
              "              style=\"display:none;\">\n",
              "\n",
              "<svg xmlns=\"http://www.w3.org/2000/svg\" height=\"24px\"viewBox=\"0 0 24 24\"\n",
              "     width=\"24px\">\n",
              "    <g>\n",
              "        <path d=\"M19 3H5c-1.1 0-2 .9-2 2v14c0 1.1.9 2 2 2h14c1.1 0 2-.9 2-2V5c0-1.1-.9-2-2-2zM9 17H7v-7h2v7zm4 0h-2V7h2v10zm4 0h-2v-4h2v4z\"/>\n",
              "    </g>\n",
              "</svg>\n",
              "      </button>\n",
              "    </div>\n",
              "\n",
              "<style>\n",
              "  .colab-df-quickchart {\n",
              "    background-color: #E8F0FE;\n",
              "    border: none;\n",
              "    border-radius: 50%;\n",
              "    cursor: pointer;\n",
              "    display: none;\n",
              "    fill: #1967D2;\n",
              "    height: 32px;\n",
              "    padding: 0 0 0 0;\n",
              "    width: 32px;\n",
              "  }\n",
              "\n",
              "  .colab-df-quickchart:hover {\n",
              "    background-color: #E2EBFA;\n",
              "    box-shadow: 0px 1px 2px rgba(60, 64, 67, 0.3), 0px 1px 3px 1px rgba(60, 64, 67, 0.15);\n",
              "    fill: #174EA6;\n",
              "  }\n",
              "\n",
              "  [theme=dark] .colab-df-quickchart {\n",
              "    background-color: #3B4455;\n",
              "    fill: #D2E3FC;\n",
              "  }\n",
              "\n",
              "  [theme=dark] .colab-df-quickchart:hover {\n",
              "    background-color: #434B5C;\n",
              "    box-shadow: 0px 1px 3px 1px rgba(0, 0, 0, 0.15);\n",
              "    filter: drop-shadow(0px 1px 2px rgba(0, 0, 0, 0.3));\n",
              "    fill: #FFFFFF;\n",
              "  }\n",
              "</style>\n",
              "\n",
              "    <script>\n",
              "      async function quickchart(key) {\n",
              "        const containerElement = document.querySelector('#' + key);\n",
              "        const charts = await google.colab.kernel.invokeFunction(\n",
              "            'suggestCharts', [key], {});\n",
              "      }\n",
              "    </script>\n",
              "\n",
              "\n",
              "      <script>\n",
              "\n",
              "function displayQuickchartButton(domScope) {\n",
              "  let quickchartButtonEl =\n",
              "    domScope.querySelector('#df-ad018575-f5eb-4b65-a3f2-be7dfbeb5f13 button.colab-df-quickchart');\n",
              "  quickchartButtonEl.style.display =\n",
              "    google.colab.kernel.accessAllowed ? 'block' : 'none';\n",
              "}\n",
              "\n",
              "        displayQuickchartButton(document);\n",
              "      </script>\n",
              "      <style>\n",
              "    .colab-df-container {\n",
              "      display:flex;\n",
              "      flex-wrap:wrap;\n",
              "      gap: 12px;\n",
              "    }\n",
              "\n",
              "    .colab-df-convert {\n",
              "      background-color: #E8F0FE;\n",
              "      border: none;\n",
              "      border-radius: 50%;\n",
              "      cursor: pointer;\n",
              "      display: none;\n",
              "      fill: #1967D2;\n",
              "      height: 32px;\n",
              "      padding: 0 0 0 0;\n",
              "      width: 32px;\n",
              "    }\n",
              "\n",
              "    .colab-df-convert:hover {\n",
              "      background-color: #E2EBFA;\n",
              "      box-shadow: 0px 1px 2px rgba(60, 64, 67, 0.3), 0px 1px 3px 1px rgba(60, 64, 67, 0.15);\n",
              "      fill: #174EA6;\n",
              "    }\n",
              "\n",
              "    [theme=dark] .colab-df-convert {\n",
              "      background-color: #3B4455;\n",
              "      fill: #D2E3FC;\n",
              "    }\n",
              "\n",
              "    [theme=dark] .colab-df-convert:hover {\n",
              "      background-color: #434B5C;\n",
              "      box-shadow: 0px 1px 3px 1px rgba(0, 0, 0, 0.15);\n",
              "      filter: drop-shadow(0px 1px 2px rgba(0, 0, 0, 0.3));\n",
              "      fill: #FFFFFF;\n",
              "    }\n",
              "  </style>\n",
              "\n",
              "      <script>\n",
              "        const buttonEl =\n",
              "          document.querySelector('#df-805ea4da-f5c5-46c3-b6bb-3c4156c44964 button.colab-df-convert');\n",
              "        buttonEl.style.display =\n",
              "          google.colab.kernel.accessAllowed ? 'block' : 'none';\n",
              "\n",
              "        async function convertToInteractive(key) {\n",
              "          const element = document.querySelector('#df-805ea4da-f5c5-46c3-b6bb-3c4156c44964');\n",
              "          const dataTable =\n",
              "            await google.colab.kernel.invokeFunction('convertToInteractive',\n",
              "                                                     [key], {});\n",
              "          if (!dataTable) return;\n",
              "\n",
              "          const docLinkHtml = 'Like what you see? Visit the ' +\n",
              "            '<a target=\"_blank\" href=https://colab.research.google.com/notebooks/data_table.ipynb>data table notebook</a>'\n",
              "            + ' to learn more about interactive tables.';\n",
              "          element.innerHTML = '';\n",
              "          dataTable['output_type'] = 'display_data';\n",
              "          await google.colab.output.renderOutput(dataTable, element);\n",
              "          const docLink = document.createElement('div');\n",
              "          docLink.innerHTML = docLinkHtml;\n",
              "          element.appendChild(docLink);\n",
              "        }\n",
              "      </script>\n",
              "    </div>\n",
              "  </div>\n"
            ]
          },
          "metadata": {},
          "execution_count": 31
        }
      ],
      "source": [
        "#transforming the test set\n",
        "X_test = pd.DataFrame(data=ct.transform(X_test))\n",
        "X_test.head()"
      ]
    },
    {
      "cell_type": "markdown",
      "metadata": {
        "id": "OQELJmkbVJM9"
      },
      "source": [
        "`fit_transform` is applied to the train set while only `transform` is applied to the test set. This is to avoid data leakage."
      ]
    },
    {
      "cell_type": "markdown",
      "metadata": {
        "id": "8wPQXNtgwxcT"
      },
      "source": [
        "### Label Encoding"
      ]
    },
    {
      "cell_type": "markdown",
      "metadata": {
        "id": "vVqra2xKwxcT"
      },
      "source": [
        "We will employ the [label encoding](https://scikit-learn.org/stable/modules/generated/sklearn.preprocessing.LabelEncoder.html) instead of one hot encoding for the target variable."
      ]
    },
    {
      "cell_type": "code",
      "execution_count": 32,
      "metadata": {
        "id": "AL2PVaCBwxcT"
      },
      "outputs": [],
      "source": [
        "#instantiate\n",
        "le = LabelEncoder()\n",
        "\n",
        "#fit on the train set\n",
        "le.fit(y_train)\n",
        "\n",
        "#transfomring the train set\n",
        "y_train = le.transform(y_train)\n",
        "\n",
        "#transforming the test set\n",
        "y_test = le.transform(y_test)"
      ]
    },
    {
      "cell_type": "markdown",
      "metadata": {
        "id": "hsz-6J3dwxcU"
      },
      "source": [
        "Preprocessing is now complete. We can start modelling."
      ]
    },
    {
      "cell_type": "markdown",
      "metadata": {
        "id": "cqGkmJScwxcU"
      },
      "source": [
        "## Building baseline models"
      ]
    },
    {
      "cell_type": "markdown",
      "source": [
        "TO evaluate the model, we want to focus on the [weighted average](https://scikit-learn.org/stable/modules/model_evaluation.html#from-binary-to-multiclass-and-multilabel) of the model since it accounts for class imbalance in the data."
      ],
      "metadata": {
        "id": "94iixEEVpreh"
      }
    },
    {
      "cell_type": "markdown",
      "source": [
        "Also, using `cross_val_score`, we take an average of the f1-weighted scores from different splits in the dataset to get a more accurate gage of model performance."
      ],
      "metadata": {
        "id": "c5l3GK5FYSKt"
      }
    },
    {
      "cell_type": "markdown",
      "metadata": {
        "id": "53pRjeuqwxcU"
      },
      "source": [
        "### Logistic Regression"
      ]
    },
    {
      "cell_type": "code",
      "execution_count": 40,
      "metadata": {
        "colab": {
          "base_uri": "https://localhost:8080/"
        },
        "id": "D0w6QcxywxcU",
        "outputId": "1aa4e2e8-6e3d-4b3b-ecfc-25ea947c8d7b"
      },
      "outputs": [
        {
          "output_type": "stream",
          "name": "stdout",
          "text": [
            "TEST SCORE\n",
            "                         precision    recall  f1-score   support\n",
            "\n",
            "             functional       0.74      0.81      0.78      8098\n",
            "functional needs repair       0.30      0.27      0.29      1074\n",
            "         non functional       0.75      0.66      0.70      5678\n",
            "\n",
            "               accuracy                           0.72     14850\n",
            "              macro avg       0.60      0.58      0.59     14850\n",
            "           weighted avg       0.71      0.72      0.71     14850\n",
            "\n"
          ]
        }
      ],
      "source": [
        "#instantiate logistic regression model\n",
        "logreg = LogisticRegression(random_state=123)\n",
        "\n",
        "#fit the model onto the train sets\n",
        "logreg.fit(X_train,y_train)\n",
        "\n",
        "#predict values of the model\n",
        "y_hat_test = logreg.predict(X_test)\n",
        "\n",
        "#setting up the names for labelling the results\n",
        "names = ['functional','functional needs repair','non functional']\n",
        "\n",
        "#evaluate model using 'weighted' f1-score\n",
        "f1_logreg = round(cross_val_score(logreg,X_test,y_test,scoring='f1_weighted').mean(),3)\n",
        "print(classification_report(y_test,y_hat_test,target_names=names))\n"
      ]
    },
    {
      "cell_type": "markdown",
      "metadata": {
        "id": "APs5nbwqwxcU"
      },
      "source": [
        "### Decision Tree"
      ]
    },
    {
      "cell_type": "code",
      "execution_count": 42,
      "metadata": {
        "colab": {
          "base_uri": "https://localhost:8080/"
        },
        "id": "BUiRX49RwxcU",
        "outputId": "b201f954-46f0-40c1-a5ba-c8261430a3fd"
      },
      "outputs": [
        {
          "output_type": "stream",
          "name": "stdout",
          "text": [
            "                         precision    recall  f1-score   support\n",
            "\n",
            "             functional       0.79      0.79      0.79      8098\n",
            "functional needs repair       0.34      0.36      0.35      1074\n",
            "         non functional       0.75      0.75      0.75      5678\n",
            "\n",
            "               accuracy                           0.74     14850\n",
            "              macro avg       0.63      0.63      0.63     14850\n",
            "           weighted avg       0.74      0.74      0.74     14850\n",
            "\n"
          ]
        }
      ],
      "source": [
        "#instantiate\n",
        "clf = DecisionTreeClassifier(criterion='entropy',random_state=123)\n",
        "\n",
        "#fit the model onto the train sets\n",
        "clf.fit(X_train,y_train)\n",
        "\n",
        "#predict\n",
        "y_hat_test = clf.predict(X_test)\n",
        "\n",
        "#evaluate model\n",
        "f1_tree=round(cross_val_score(clf,X_test,y_test,scoring='f1_weighted').mean(),3)\n",
        "print(classification_report(y_test,y_hat_test,target_names=names))\n"
      ]
    },
    {
      "cell_type": "markdown",
      "metadata": {
        "id": "PaWaQf0QwxcU"
      },
      "source": [
        "### KNN"
      ]
    },
    {
      "cell_type": "code",
      "execution_count": 73,
      "metadata": {
        "colab": {
          "base_uri": "https://localhost:8080/"
        },
        "id": "sMxQkLBrwxcU",
        "outputId": "3aa1b9c0-15bd-4be7-c837-66c8d6ba2a9f"
      },
      "outputs": [
        {
          "output_type": "stream",
          "name": "stdout",
          "text": [
            "                         precision    recall  f1-score   support\n",
            "\n",
            "             functional       0.78      0.86      0.82      8098\n",
            "functional needs repair       0.47      0.33      0.39      1074\n",
            "         non functional       0.80      0.73      0.76      5678\n",
            "\n",
            "               accuracy                           0.77     14850\n",
            "              macro avg       0.69      0.64      0.66     14850\n",
            "           weighted avg       0.77      0.77      0.77     14850\n",
            "\n"
          ]
        }
      ],
      "source": [
        "#instantiate\n",
        "knn = KNeighborsClassifier()\n",
        "\n",
        "#fit onto the data\n",
        "knn.fit(X_train,y_train)\n",
        "\n",
        "#predict\n",
        "y_hat_test = knn.predict(X_test)\n",
        "\n",
        "#evaluate model\n",
        "f1_knn = round(cross_val_score(knn,X_test,y_test,scoring='f1_weighted').mean(),3)\n",
        "print(classification_report(y_test,y_hat_test,target_names=names))"
      ]
    },
    {
      "cell_type": "markdown",
      "metadata": {
        "id": "nD-26yC372zu"
      },
      "source": [
        "### SVM"
      ]
    },
    {
      "cell_type": "markdown",
      "metadata": {
        "id": "2ge2fzSD0f0_"
      },
      "source": [
        "Unsurprisingly, we can see the 'needs repair' class has the poorest f1-score thereby dragging down the overall model performance. This can attributed to the imbalance in the dataset that we discovered earlier in the EDA process ([class distribution](#scrollTo=8OaS0Qio0-lO&line=1&uniqifier=1))."
      ]
    },
    {
      "cell_type": "markdown",
      "metadata": {
        "id": "Jjq6bn2lwxcU"
      },
      "source": [
        "## Selecting a model"
      ]
    },
    {
      "cell_type": "code",
      "execution_count": 89,
      "metadata": {
        "colab": {
          "base_uri": "https://localhost:8080/",
          "height": 445
        },
        "id": "RxN0_HEgwxcU",
        "outputId": "82cbd9b8-49dc-4e72-b548-e047c29cccce"
      },
      "outputs": [
        {
          "output_type": "display_data",
          "data": {
            "text/plain": [
              "<Figure size 500x500 with 1 Axes>"
            ],
            "image/png": "[encoded data removed]"
          },
          "metadata": {}
        }
      ],
      "source": [
        "#visualizing baseline model performance\n",
        "fig,ax=plt.subplots(figsize=(5,5))\n",
        "plt.bar(x=['log_reg','decision_tree','knn'],height=[f1_logreg,f1_tree,f1_knn],label='f1_scores',\n",
        "       width=0.2);\n",
        "plt.legend();"
      ]
    },
    {
      "cell_type": "markdown",
      "metadata": {
        "id": "Lwaz-BnjwxcU"
      },
      "source": [
        "We can see that the `KNN` baseline model has the highest performance score among the three baseline models. But since,computation time is large for `KNN` and the performance gain in only marginal between `KNN` and `DecisionTree` , let's go with `DecisionTree` .  "
      ]
    },
    {
      "cell_type": "markdown",
      "metadata": {
        "id": "78xFqZ_2wxcV"
      },
      "source": [
        "## Hyperparameter Tuning"
      ]
    },
    {
      "cell_type": "markdown",
      "metadata": {
        "id": "ZswZtjSWwxcV"
      },
      "source": [
        "### Max_depth"
      ]
    },
    {
      "cell_type": "markdown",
      "metadata": {
        "id": "oebv2Y_nwxcV"
      },
      "source": [
        "#creating a list of depth values\n",
        "max_depth = np.arange(1,50)\n",
        "\n",
        "#initiate dict to store the score and the depth value\n",
        "f1_scores=[]\n",
        "scores_depth = {}\n",
        "\n",
        "# create a loop for the classifier to run with the different depth values\n",
        "for depth in max_depth:\n",
        "\n",
        "    #instantiate\n",
        "    classifier = DecisionTreeClassifier(criterion='entropy',max_depth=depth,random_state=123)\n",
        "\n",
        "    #fit the model\n",
        "    classifier.fit(X_train,y_train)\n",
        "\n",
        "    #predict values\n",
        "    y_hat_test = classifier.predict(X_test)\n",
        "\n",
        "    #calculate\n",
        "    f1 = f1_score(y_test,y_hat_test,average='macro')\n",
        "\n",
        "    #append test_scores list\n",
        "    f1_scores.append(f1)\n",
        "\n",
        "    #adding to the dict\n",
        "    scores_depth[f1] = depth\n",
        "\n",
        "#sort the dict\n",
        "scores_depth = dict(sorted(scores_depth.items(),\n",
        "                          key=lambda item:item[0],\n",
        "                          reverse=True))\n",
        "\n",
        "#visualize the data\n",
        "import matplotlib.pyplot as plt\n",
        "fig,ax = plt.subplots(figsize=(7,7))\n",
        "ax.plot(max_depth,f1_scores,c='b')\n",
        "ax.set_xlabel('max_depth')\n",
        "ax.set_ylabel('f1-score')\n",
        "ax.set_title('max_depth')\n",
        "plt.show()"
      ]
    },
    {
      "cell_type": "markdown",
      "metadata": {
        "id": "Ra2-nM1AwxcV"
      },
      "source": [
        "max_depth= list(scores_depth.items())[0][1]\n",
        "print(f'f1-score is the highest at a depth value of {max_depth}')"
      ]
    },
    {
      "cell_type": "markdown",
      "metadata": {
        "id": "QIlmI5TkwxcV"
      },
      "source": [
        "### Min_samples_split"
      ]
    },
    {
      "cell_type": "markdown",
      "metadata": {
        "id": "7ICKHjRGwxcV",
        "outputId": "75da745e-1f4c-4212-a2c6-1c408375b857"
      },
      "source": [
        "#use the optimum value of depth\n",
        "max_depth=max_depth\n",
        "\n",
        "#define a range of min_samples_for each split\n",
        "min_samples_range = np.arange(2,50)\n",
        "\n",
        "#create a loop with the optimum depth and different min_samples\n",
        "#creating an empty list to store scores for each split and sample\n",
        "f1_scores = []\n",
        "scores_split = {}\n",
        "\n",
        "# create a loop for the classifier to run with the different depth values\n",
        "for sample in min_samples_range:\n",
        "\n",
        "    #instantiate\n",
        "    classifier = DecisionTreeClassifier(criterion='entropy',max_depth=max_depth,min_samples_split=sample,random_state=123)\n",
        "\n",
        "    #fit the model\n",
        "    classifier.fit(X_train,y_train)\n",
        "\n",
        "    #predict values\n",
        "    y_hat_test = classifier.predict(X_test)\n",
        "\n",
        "    #calculate\n",
        "    f1 = f1_score(y_test,y_hat_test,average='macro')\n",
        "\n",
        "    #add the scores to the list\n",
        "    f1_scores.append(f1)\n",
        "\n",
        "    #adding to the dict\n",
        "    scores_split[f1] = sample\n",
        "\n",
        "#sort the dict\n",
        "scores_split = dict(sorted(scores_split.items(),\n",
        "                          key=lambda item:item[0],\n",
        "                          reverse=True))\n",
        "\n",
        "#visualize\n",
        "fig,ax = plt.subplots(figsize=(7,7))\n",
        "ax.plot(min_samples_range,f1_scores,c='b')\n",
        "\n",
        "ax.set_xlabel('min_samples')\n",
        "ax.set_ylabel('f1-score')\n",
        "ax.set_title('min_samples_split')\n",
        "plt.show();\n"
      ]
    },
    {
      "cell_type": "markdown",
      "metadata": {
        "id": "4OqmfOftwxcV",
        "outputId": "1cc31bc7-fc37-488d-95c0-cebdd309414a"
      },
      "source": [
        "min_samples_split= list(scores_split.items())[0][1]\n",
        "print(f'f1-score is the highest at a depth value of {min_samples_split}')"
      ]
    },
    {
      "cell_type": "markdown",
      "metadata": {
        "id": "BOq6UGTtwxcV"
      },
      "source": [
        "### Min_samples_leaf"
      ]
    },
    {
      "cell_type": "markdown",
      "metadata": {
        "id": "VSPaDo4uwxcV",
        "outputId": "6685d5ff-7965-41ad-8a2b-e80e7ba32f10",
        "scrolled": false
      },
      "source": [
        "#use the optimum value of depth,min_samples_split\n",
        "depth = max_depth\n",
        "min_samples_split = min_samples_split\n",
        "\n",
        "#define a range of min_samples_for each split\n",
        "min_leaf_range = np.arange(2,50)\n",
        "\n",
        "#create a loop with the optimum depth and different min_samples\n",
        "#creating an empty list to store scores for each depth\n",
        "f1_scores = []\n",
        "scores_leaf = {}\n",
        "\n",
        "# create a loop for the classifier to run with the different depth values\n",
        "for sample in min_leaf_range:\n",
        "\n",
        "    #instantiate\n",
        "    classifier = DecisionTreeClassifier(criterion='entropy',max_depth=depth,min_samples_split=min_samples_split,\n",
        "                                       min_samples_leaf=sample, random_state=123)\n",
        "\n",
        "    #fit the model\n",
        "    classifier.fit(X_train,y_train)\n",
        "\n",
        "    #predict values\n",
        "    y_hat_test = classifier.predict(X_test)\n",
        "\n",
        "    #calculate\n",
        "    f1 = f1_score(y_test,y_hat_test,average='macro')\n",
        "\n",
        "    #add the scores to the list\n",
        "    f1_scores.append(f1)\n",
        "\n",
        "     #adding to the dict\n",
        "    scores_leaf[f1] = sample\n",
        "\n",
        "\n",
        "#sort the dict\n",
        "scores_leaf = dict(sorted(scores_leaf.items(),\n",
        "                          key=lambda item:item[0],\n",
        "                          reverse=True))\n",
        "\n",
        "#visual\n",
        "fig,ax = plt.subplots(figsize=(7,7))\n",
        "ax.plot(min_leaf_range,f1_scores,c='b')\n",
        "\n",
        "ax.set_xlabel('min_leaf')\n",
        "ax.set_ylabel('f1-score')\n",
        "ax.set_title('min_leaf_samples')\n",
        "\n",
        "plt.show();\n"
      ]
    },
    {
      "cell_type": "markdown",
      "metadata": {
        "id": "oCZevmnZwxcV",
        "outputId": "5d6a2e5d-8b80-457f-eba2-19cdfec23170",
        "scrolled": true
      },
      "source": [
        "min_samples_leaf= list(scores_leaf.items())[0][1]\n",
        "print(f'f1-score is the highest at a depth value of {min_samples_leaf}')"
      ]
    },
    {
      "cell_type": "markdown",
      "metadata": {
        "id": "w77jW271wxcV"
      },
      "source": [
        "### Model with optimized parameters"
      ]
    },
    {
      "cell_type": "markdown",
      "metadata": {
        "id": "0NMdaoB6wxcV",
        "outputId": "94f40193-7332-4964-f5f7-cded38fbd028",
        "scrolled": false
      },
      "source": [
        "#run the model with the optimized parameters\n",
        "max_depth=max_depth\n",
        "min_samples_split=min_samples_split\n",
        "min_samples_leaf=min_samples_leaf\n",
        "\n",
        "#instantiate\n",
        "classifier = DecisionTreeClassifier(criterion='entropy',max_depth=max_depth,min_samples_split=min_samples_split,\n",
        "                                    min_samples_leaf=min_samples_leaf,random_state=123)\n",
        "\n",
        "#fit the model\n",
        "classifier.fit(X_train,y_train)\n",
        "\n",
        "#predict values\n",
        "tuned_y_hat_train = classifier.predict(X_train)\n",
        "tuned_y_hat_test = classifier.predict(X_test)\n",
        "\n",
        "\n",
        "print('TEST SCORES')\n",
        "print('----------------------------------------------------------')\n",
        "print(classification_report(y_test,tuned_y_hat_test,target_names=names))\n",
        "\n",
        "f1_score_optimized_train = f1_score(y_train,tuned_y_hat_train,average='macro')\n",
        "f1_score_optimized_test = f1_score(y_test,tuned_y_hat_test,average='macro')"
      ]
    },
    {
      "cell_type": "markdown",
      "metadata": {
        "id": "lIP7I35KwxcW",
        "outputId": "83649910-a0f3-4c55-cced-7375cd3fa1fa",
        "scrolled": false
      },
      "source": [
        "#comparing baseline model with the model with tuned hyperparameters\n",
        "fig,ax=plt.subplots(figsize=(8,5))\n",
        "ax.bar(x=['baseline_model','tuned_model'],height=[f1_tree,f1_score_optimized_test],label='f1_scores',\n",
        "      width=0.4);\n",
        "ax.set_title('Comparing f1_scores');\n",
        "ax.legend();"
      ]
    },
    {
      "cell_type": "markdown",
      "metadata": {
        "id": "J-_GKTuSwxcW"
      },
      "source": [
        "We can see that there is only marginal improvement"
      ]
    },
    {
      "cell_type": "markdown",
      "metadata": {
        "id": "sIiCRcjHwxcW"
      },
      "source": [
        "## Feature_importance"
      ]
    },
    {
      "cell_type": "markdown",
      "metadata": {
        "id": "8H7c4CpjwxcW",
        "outputId": "f3d929bf-ac89-416d-e505-7c4cb9ee3930",
        "scrolled": true
      },
      "source": [
        "#creating a df with just feature_importance data\n",
        "df_importance = pd.DataFrame({'features':X_train.columns,\n",
        "                             'importance':classifier.feature_importances_})\n",
        "\n",
        "df_importance"
      ]
    },
    {
      "cell_type": "markdown",
      "metadata": {
        "id": "NC-svfQ4wxcW",
        "outputId": "f1c50877-df72-4c7b-ce52-dbd947411adb"
      },
      "source": [
        "#sorting the importance in ascending order\n",
        "df_importance_sorted = df_importance.sort_values(by=['importance'],ascending=True)\n",
        "df_importance_sorted.head()"
      ]
    },
    {
      "cell_type": "markdown",
      "metadata": {
        "id": "43zCmS9hwxcW"
      },
      "source": [
        "Let's build a model based on the top_10 features to see if we can get better results"
      ]
    },
    {
      "cell_type": "markdown",
      "metadata": {
        "id": "wwzbsODZwxcW"
      },
      "source": [
        "### Extracting top_10 features"
      ]
    },
    {
      "cell_type": "markdown",
      "metadata": {
        "id": "uLmvTkmZwxcW",
        "outputId": "4e42b778-31de-4ca4-fd55-409def5cb9f2",
        "scrolled": false
      },
      "source": [
        "#create new train and test sets with the top_10 features alone\n",
        "#get top10 features as a df\n",
        "cols = df_importance_sorted['features'].tail(10)\n",
        "cols=pd.DataFrame(data=cols)\n",
        "cols"
      ]
    },
    {
      "cell_type": "markdown",
      "metadata": {
        "id": "fEjua2F6wxcW",
        "scrolled": false
      },
      "source": [
        "#df with top10 features for train and test sets\n",
        "X_train_top10 =X_train[list(cols['features'])]\n",
        "X_test_top10 =X_test[list(cols['features'])]"
      ]
    },
    {
      "cell_type": "markdown",
      "metadata": {
        "id": "nq1OkX80wxcW"
      },
      "source": [
        "## Decision Tree with the top10 features"
      ]
    },
    {
      "cell_type": "markdown",
      "metadata": {
        "id": "nLgE0IdIwxcW"
      },
      "source": [
        "### GridSearch CV"
      ]
    },
    {
      "cell_type": "markdown",
      "metadata": {
        "id": "KAVtrNmjwxcW"
      },
      "source": [
        "Rather than use the earlier approach, where we built a baseline model and then tuned each hyper parameter seperately, we can combine all these steps into one using `GridSearchCV`"
      ]
    },
    {
      "cell_type": "markdown",
      "metadata": {
        "id": "fEh0NLgQwxcW",
        "outputId": "96068793-19d6-4ff8-c4e4-678338a77e14"
      },
      "source": [
        "#instantiate\n",
        "clf_top10 = DecisionTreeClassifier(random_state=123)\n",
        "\n",
        "#define the parameter grid\n",
        "#constraining size based on tuned model params to reduce computation time\n",
        "param_grid = {'max_depth': np.arange(max_depth, max_depth+5),\n",
        "              'min_samples_split': np.arange(min_samples_split,min_samples_split+5),\n",
        "              'min_samples_leaf': np.arange(min_samples_leaf,min_samples_leaf+5)\n",
        "             }\n",
        "\n",
        "#instantiate\n",
        "gs_tree = GridSearchCV(estimator=clf_top10,param_grid=param_grid,cv=5)\n",
        "\n",
        "#fit\n",
        "gs_tree.fit(X_train_top10,y_train)\n",
        "\n",
        "#predict\n",
        "gs_train = gs_tree.predict(X_train_top10)\n",
        "gs_test = gs_tree.predict(X_test_top10)\n",
        "\n",
        "print('TEST SCORES')\n",
        "print('--------------------------------------------------')\n",
        "print(classification_report(y_test,gs_test))\n",
        "\n",
        "f1_score_gs_tree_train = f1_score(y_train,gs_train,average='macro')\n",
        "f1_score_gs_tree_test = f1_score(y_test,gs_test,average='macro')"
      ]
    },
    {
      "cell_type": "markdown",
      "metadata": {
        "id": "kMg0F-HewxcW",
        "outputId": "b5e382c3-2e85-487d-8654-e42c36172d8b",
        "scrolled": false
      },
      "source": [
        "#visualizing scores\n",
        "#comparing baseline model with the model with tuned hyperparameters\n",
        "fig,ax=plt.subplots(figsize=(8,5))\n",
        "ax.bar(x=['baseline_model','tuned_model','gridsearch'],height=[f1_tree,f1_score_optimized_test,f1_score_gs_tree_test],\n",
        "       label='f1_scores',width=0.4);\n",
        "ax.set_title('Comparing f1_scores');\n",
        "ax.legend(loc=7);"
      ]
    },
    {
      "cell_type": "markdown",
      "metadata": {
        "id": "TfIMlcmMwxcX"
      },
      "source": [
        " We can see that the model performance has regressed using just the top10 features. Hence, we can\n",
        "nix that approach."
      ]
    },
    {
      "cell_type": "markdown",
      "metadata": {
        "id": "4ytyl5EvwxcX"
      },
      "source": [
        "# Random Forest"
      ]
    },
    {
      "cell_type": "markdown",
      "metadata": {
        "id": "VYj45sUZwxcX"
      },
      "source": [
        "Let's use a popular ensemble method called Random Forest to see if we can make improvements. Random Forest combines Bootstrapping and Sub-Space Sampling methods to build models that are robust and immune to noise in the data."
      ]
    },
    {
      "cell_type": "markdown",
      "metadata": {
        "id": "9aKxPJtfwxcX",
        "outputId": "ef499f9a-8eb7-45ac-9a6b-74a0bc017493",
        "scrolled": true
      },
      "source": [
        "#instantiate the classifier\n",
        "forest =RandomForestClassifier(n_estimators=100,criterion='entropy')\n",
        "\n",
        "#fit the data\n",
        "forest.fit(X_train,y_train)\n",
        "\n",
        "#predict\n",
        "y_hat_train = forest.predict(X_train)\n",
        "y_hat_test = forest.predict(X_test)\n",
        "\n",
        "print('TEST SCORES')\n",
        "print('----------------------------------------------------------')\n",
        "print(classification_report(y_test,y_hat_test,target_names=names))\n",
        "\n",
        "f1_score_forest_test = f1_score(y_test,y_hat_test,average='macro')"
      ]
    },
    {
      "cell_type": "markdown",
      "metadata": {
        "id": "WLSaxN3TwxcX",
        "outputId": "f7e57ceb-06b9-4984-8694-b980895a1dd8"
      },
      "source": [
        "#visualize scores\n",
        "fig,ax=plt.subplots(figsize=(8,5))\n",
        "ax.bar(x=['baseline_model','tuned_model','gridsearch','random_forest'],\n",
        "       height=[f1_tree,f1_score_optimized_test,f1_score_gs_tree_test,f1_score_forest_test],\n",
        "       label='f1_scores',width=0.4);\n",
        "ax.set_title('Comparing f1_scores');\n",
        "ax.legend();"
      ]
    },
    {
      "cell_type": "markdown",
      "metadata": {
        "id": "jzUkCrmawxcX"
      },
      "source": [
        "Again, the gains are only marginal\n"
      ]
    },
    {
      "cell_type": "markdown",
      "metadata": {
        "id": "Q5X_7qvywxcX"
      },
      "source": [
        "# Confusion matrix"
      ]
    },
    {
      "cell_type": "markdown",
      "metadata": {
        "id": "9AyheAahwxcX"
      },
      "source": [
        "The Confusion Matrix is a graphical representation of `[TP,FP,TN,FN]` values.\n",
        "While the f1-score helps us evaluate model performance, we cannot ascertain how to move forward.\n",
        "By using the confusion matrix, we can the see the performance of the model\n",
        "across the different classes and get a clearer picture of model performance"
      ]
    },
    {
      "cell_type": "markdown",
      "metadata": {
        "id": "LL3Sg9DewxcX"
      },
      "source": [
        "#plotting the confusion matrix for the tuned model since that has the highest f1-score of all the models\n",
        "fig,ax = plt.subplots(figsize=(7,7))\n",
        "cm = confusion_matrix(y_test,tuned_y_hat_test)\n",
        "disp = ConfusionMatrixDisplay(cm,display_labels=names);\n",
        "disp.plot(ax=ax);"
      ]
    },
    {
      "cell_type": "markdown",
      "metadata": {
        "id": "2n1LPUOvwxcX"
      },
      "source": [
        "We can clearly see that the ```functional needs repair``` is a problem for the model.\n",
        "Pumps that `need repair` are being classified as ```functional```. While the model does reasonably well in comparision\n",
        "to the other two classes, the ```functional needs repair``` class clearly outweighs the other two classes in poor performance."
      ]
    },
    {
      "cell_type": "markdown",
      "metadata": {
        "id": "ngkoSMzCwxcX"
      },
      "source": [
        "# Examining the target feature"
      ]
    },
    {
      "cell_type": "markdown",
      "metadata": {
        "id": "QhNwLPyNwxcX",
        "outputId": "fc748388-aba6-4301-b5d7-07d94ac78e6a",
        "scrolled": false
      },
      "source": [
        "#examining the target variable\n",
        "df['status_group'].value_counts()"
      ]
    },
    {
      "cell_type": "markdown",
      "metadata": {
        "id": "273KP2ZswxcX"
      },
      "source": [
        "It is very evident that there is a class imbalance. We can try the following approaches to address this imbalance:\n",
        "\n",
        "1. We can reclassify the `functional needs repair` class as `non_functional`. This way we have more data as `non functional` and this could mitigate some of the imbalance.\n",
        "2. We can eliminate the `functional needs repair` class completely from the dataset."
      ]
    },
    {
      "cell_type": "markdown",
      "metadata": {
        "id": "ZRZ0YvFRwxcX"
      },
      "source": [
        "Let's move forward using approach 1"
      ]
    },
    {
      "cell_type": "markdown",
      "metadata": {
        "id": "ZpSnLgGkwxcX"
      },
      "source": [
        "# Creating a new dataset"
      ]
    },
    {
      "cell_type": "markdown",
      "metadata": {
        "id": "6a9Jk94TwxcX",
        "outputId": "00837647-ccc5-4dff-8a68-fe544f2af311",
        "scrolled": true
      },
      "source": [
        "#reclassifying the values in the  dataset\n",
        "df1 = df.copy()\n",
        "df1['status_group'] = df1['status_group'].replace('functional needs repair','non functional')\n",
        "df1['status_group'].value_counts()"
      ]
    },
    {
      "cell_type": "markdown",
      "metadata": {
        "id": "lW0kkrnRwxcY"
      },
      "source": [
        "## Preprocessing steps as before"
      ]
    },
    {
      "cell_type": "markdown",
      "metadata": {
        "id": "tpQM0FLmwxcY"
      },
      "source": [
        "#splitting the train and test sets\n",
        "X=df1.drop('status_group',axis=1)\n",
        "y=df1['status_group']\n",
        "\n",
        "X_train,X_test,y_train,y_test = train_test_split(X,y,random_state=123)"
      ]
    },
    {
      "cell_type": "markdown",
      "metadata": {
        "id": "fvwn08DgwxcY"
      },
      "source": [
        "#getting the list of column names with numeric and categorical data\n",
        "#getting the list of column names with numeric data\n",
        "num_cols = [col for col in X_train.columns if X_train[col].dtypes!='O']\n",
        "cat_cols = [col for col in X_train.columns if X_train[col].dtypes=='O']"
      ]
    },
    {
      "cell_type": "markdown",
      "metadata": {
        "id": "a9Rs4i34wxcY"
      },
      "source": [
        "#dropping cat columns for a easier computation like before\n",
        "cat_cols.remove('subvillage')\n",
        "cat_cols.remove('ward')\n",
        "cat_cols.remove('installer')\n",
        "cat_cols.remove('funder')\n",
        "cat_cols.remove('date_recorded')\n",
        "cat_cols.remove('lga')\n"
      ]
    },
    {
      "cell_type": "markdown",
      "metadata": {
        "id": "y6799GH_wxcY"
      },
      "source": [
        "X_train.drop(columns=['subvillage','ward','installer','funder','date_recorded','lga'],\n",
        "             axis=1,inplace=True)\n",
        "X_test.drop(columns=['subvillage','ward','installer','funder','date_recorded','lga'],\n",
        "            axis=1,inplace=True)"
      ]
    },
    {
      "cell_type": "markdown",
      "metadata": {
        "id": "ghWYLCZUwxcY"
      },
      "source": [
        "#transforming the categrical data to str for the encoder to work\n",
        "X_train[cat_cols] = X_train[cat_cols].astype('str')"
      ]
    },
    {
      "cell_type": "markdown",
      "metadata": {
        "id": "guu40iD_wxcY"
      },
      "source": [
        "# instantiate the transformer to scale the numeric data and encode categorical data\n",
        "ct = ColumnTransformer([\n",
        "    ('scale', MinMaxScaler(), num_cols),\n",
        "    ('encode', OneHotEncoder(sparse=False,handle_unknown='ignore'), cat_cols),\n",
        "])"
      ]
    },
    {
      "cell_type": "markdown",
      "metadata": {
        "id": "mppwFrxDwxcY"
      },
      "source": [
        "#transforming the train and test sets\n",
        "ct.fit(X_train)\n",
        "X_train = pd.DataFrame(data=ct.transform(X_train))\n",
        "X_test = pd.DataFrame(data=ct.transform(X_test))"
      ]
    },
    {
      "cell_type": "markdown",
      "metadata": {
        "id": "7JtvEkAswxcY"
      },
      "source": [
        "#label encode the target variable\n",
        "#instantiate\n",
        "le = LabelEncoder()\n",
        "\n",
        "#fit on the train set\n",
        "le.fit(y_train)\n",
        "\n",
        "#transfomring the train set\n",
        "y_train = le.transform(y_train)\n",
        "y_test = le.transform(y_test)"
      ]
    },
    {
      "cell_type": "markdown",
      "metadata": {
        "id": "iKzoGFcFwxcY"
      },
      "source": [
        "# Decision Tree on the new dataset"
      ]
    },
    {
      "cell_type": "markdown",
      "metadata": {
        "id": "mY1d7tsAwxcY",
        "outputId": "0513765f-a7cb-4de4-bdc6-2931de72b82e",
        "scrolled": true
      },
      "source": [
        "names = ['functional','non functional']\n",
        "\n",
        "#instantiate\n",
        "clf = DecisionTreeClassifier(criterion='entropy',random_state=123)\n",
        "\n",
        "#fit the model onto the train sets\n",
        "clf.fit(X_train,y_train)\n",
        "\n",
        "#predict\n",
        "y_hat_train = clf.predict(X_train)\n",
        "tree_y_hat_test = clf.predict(X_test)\n",
        "\n",
        "#evaluate model\n",
        "f1_balanced = round(f1_score(y_test,tree_y_hat_test,average='macro'),3)\n",
        "print(classification_report(y_test,tree_y_hat_test,target_names=names))\n"
      ]
    },
    {
      "cell_type": "markdown",
      "metadata": {
        "id": "QiVbJ-UdwxcY",
        "outputId": "8279e284-ef31-456e-c0e0-3dc1e3f03797",
        "scrolled": true
      },
      "source": [
        "#comparing the different models\n",
        "fig,ax=plt.subplots(figsize=(8,5))\n",
        "ax.bar(x=['baseline_model','tuned_model','gridsearch','random_forest','reclassified_set'],\n",
        "       height=[f1_tree,f1_score_optimized_test,f1_score_gs_tree_test,f1_score_forest_test,f1_balanced],\n",
        "       label='f1_scores',width=0.4);\n",
        "ax.set_title('Comparing f1_scores');\n",
        "ax.legend();"
      ]
    },
    {
      "cell_type": "markdown",
      "metadata": {
        "id": "Y6l1gaA4wxcY"
      },
      "source": [
        "We can see that the model has improved significantly by using the reclassified data."
      ]
    },
    {
      "cell_type": "markdown",
      "metadata": {
        "id": "ARQoQ4SEwxcY"
      },
      "source": [
        "## Confusion Matrix"
      ]
    },
    {
      "cell_type": "markdown",
      "metadata": {
        "id": "VsKHv4-TwxcY",
        "outputId": "045be5f7-6f6f-4a9b-92b2-e7e7741dec15"
      },
      "source": [
        "#confusion matrix\n",
        "fig,ax = plt.subplots(figsize=(7,7))\n",
        "cm = confusion_matrix(y_test,tree_y_hat_test)\n",
        "disp = ConfusionMatrixDisplay(cm,display_labels=names);\n",
        "disp.plot(ax=ax);"
      ]
    },
    {
      "cell_type": "markdown",
      "metadata": {
        "id": "eYd3hdZ4wxcY"
      },
      "source": [
        "From the confusion matrix, we can see that there is still room for improvement"
      ]
    },
    {
      "cell_type": "markdown",
      "metadata": {
        "id": "YjtrwbcnwxcZ"
      },
      "source": [
        "## GridSearchCV"
      ]
    },
    {
      "cell_type": "markdown",
      "metadata": {
        "id": "wDPdIZG4wxcZ"
      },
      "source": [
        "Let's do a GridSearch on the model to optimize. We'll take a conservative approach while defining the\n",
        "parameters to reduce computation time and base them from our previous model"
      ]
    },
    {
      "cell_type": "markdown",
      "metadata": {
        "id": "DXUesMunwxcZ",
        "outputId": "29b9a8ac-7887-4d24-fb6b-a26820ba4023",
        "scrolled": false
      },
      "source": [
        "#instantiate\n",
        "clf = DecisionTreeClassifier(criterion='entropy',random_state=123)\n",
        "\n",
        "#define the parameter grid\n",
        "#constraining size based on tuned model params to reduce computation time\n",
        "param_grid = {'max_depth': np.arange(25,30),\n",
        "              'min_samples_split': np.arange(15,20),\n",
        "              'min_samples_leaf': np.arange(10,15)\n",
        "             }\n",
        "\n",
        "#instantiate\n",
        "gs_tree = GridSearchCV(estimator=clf,param_grid=param_grid,cv=5)\n",
        "\n",
        "#fit\n",
        "gs_tree.fit(X_train,y_train)\n",
        "\n",
        "#predict\n",
        "gs_test = gs_tree.predict(X_test)\n",
        "\n",
        "print('TEST SCORES')\n",
        "print('--------------------------------------------------')\n",
        "print(classification_report(y_test,gs_test))\n",
        "\n",
        "f1_score_gs = f1_score(y_test,gs_test,average='macro')"
      ]
    },
    {
      "cell_type": "markdown",
      "metadata": {
        "id": "TBXjCHKNwxcZ"
      },
      "source": [
        "By runnning the model with parameters obtained earlier, we can see that gain is only marginal there by suggesting that more tuning is required"
      ]
    },
    {
      "cell_type": "markdown",
      "metadata": {
        "id": "rATlvOLawxcZ"
      },
      "source": [
        "## Combining GridSearch and RandomForest"
      ]
    },
    {
      "cell_type": "markdown",
      "metadata": {
        "id": "VuTr5qTfwxcZ"
      },
      "source": [
        "# #define the parameter grid\n",
        "# #constraining size based on tuned model params to reduce computation time\n",
        "# param_grid = {'max_depth': np.arange(25,30),\n",
        "#               'min_samples_split': np.arange(15,20),\n",
        "#               'min_samples_leaf': np.arange(10,15)\n",
        "#              }\n",
        "\n",
        "# #instantiate the classifier\n",
        "# forest =RandomForestClassifier(n_estimators=100,criterion='entropy')\n",
        "# gs = GridSearchCV(estimator=forest,param_grid=param_grid,cv=5)\n",
        "\n",
        "# #fit the data\n",
        "# gs.fit(X_train,y_train)\n",
        "\n",
        "# #predict\n",
        "# y_hat_test = gs.predict(X_test)\n",
        "\n",
        "# print('TEST SCORES')\n",
        "# print('----------------------------------------------------------')\n",
        "# print(classification_report(y_test,y_hat_test,target_names=names))\n",
        "\n",
        "# f1_score_grid = f1_score(y_test,y_hat_test,average='macro')"
      ]
    },
    {
      "cell_type": "markdown",
      "metadata": {
        "id": "BAcvfkMUwxcZ"
      },
      "source": [
        "*Not running due to extended running time*"
      ]
    },
    {
      "cell_type": "markdown",
      "metadata": {
        "id": "o7MsaJV1wxcZ"
      },
      "source": [
        "# Next Steps"
      ]
    },
    {
      "cell_type": "markdown",
      "metadata": {
        "id": "bfpETl_GwxcZ"
      },
      "source": [
        "1. Hyperparameters should be tuned for the new dataset optimization.\n",
        "2. We can combine GrdSearchCV and RandomForest and evaluate performance\n",
        "3. Since we only used some the categorical features for our model, we can selectively add more features and check for performance."
      ]
    }
  ],
  "metadata": {
    "colab": {
      "provenance": [],
      "toc_visible": true
    },
    "kernelspec": {
      "display_name": "Python 3 (ipykernel)",
      "language": "python",
      "name": "python3"
    },
    "language_info": {
      "codemirror_mode": {
        "name": "ipython",
        "version": 3
      },
      "file_extension": ".py",
      "mimetype": "text/x-python",
      "name": "python",
      "nbconvert_exporter": "python",
      "pygments_lexer": "ipython3",
      "version": "3.10.9"
    },
    "toc": {
      "base_numbering": 1,
      "nav_menu": {},
      "number_sections": true,
      "sideBar": true,
      "skip_h1_title": false,
      "title_cell": "Table of Contents",
      "title_sidebar": "Contents",
      "toc_cell": true,
      "toc_position": {
        "height": "calc(100% - 180px)",
        "left": "10px",
        "top": "150px",
        "width": "312.656px"
      },
      "toc_section_display": true,
      "toc_window_display": true
    },
    "varInspector": {
      "cols": {
        "lenName": 16,
        "lenType": 16,
        "lenVar": 40
      },
      "kernels_config": {
        "python": {
          "delete_cmd_postfix": "",
          "delete_cmd_prefix": "del ",
          "library": "var_list.py",
          "varRefreshCmd": "print(var_dic_list())"
        },
        "r": {
          "delete_cmd_postfix": ") ",
          "delete_cmd_prefix": "rm(",
          "library": "var_list.r",
          "varRefreshCmd": "cat(var_dic_list()) "
        }
      },
      "types_to_exclude": [
        "module",
        "function",
        "builtin_function_or_method",
        "instance",
        "_Feature"
      ],
      "window_display": false
    }
  },
  "nbformat": 4,
  "nbformat_minor": 0
}